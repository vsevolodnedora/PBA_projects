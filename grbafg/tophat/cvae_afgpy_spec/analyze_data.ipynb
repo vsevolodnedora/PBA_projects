{
 "cells": [
  {
   "cell_type": "code",
   "execution_count": 1,
   "id": "initial_id",
   "metadata": {
    "collapsed": true,
    "ExecuteTime": {
     "end_time": "2024-02-15T09:36:21.734210323Z",
     "start_time": "2024-02-15T09:36:20.204951225Z"
    }
   },
   "outputs": [],
   "source": [
    "import pandas as pd\n",
    "import os.path\n",
    "import os\n",
    "import h5py\n",
    "import numpy as np\n",
    "import tqdm\n",
    "import itertools\n",
    "import matplotlib.pyplot as plt\n",
    "from matplotlib import colors\n",
    "\n",
    "import torch\n",
    "device = torch.device(\"cuda\" if torch.cuda.is_available() else \"cpu\")\n",
    "if device.type == 'cuda':\n",
    "    torch.cuda.empty_cache()\n",
    "if device.type == 'cpu':\n",
    "    print(\"Using cpu\")"
   ]
  },
  {
   "cell_type": "code",
   "outputs": [],
   "source": [
    "from data import (SpectraDataset, preprocess_dataset, prepare_dataset_scalers)"
   ],
   "metadata": {
    "collapsed": false,
    "ExecuteTime": {
     "end_time": "2024-02-15T09:36:24.901265182Z",
     "start_time": "2024-02-15T09:36:24.304775513Z"
    }
   },
   "id": "11a8f0b2dbc1cb62",
   "execution_count": 2
  },
  {
   "cell_type": "code",
   "outputs": [
    {
     "name": "stdout",
     "output_type": "stream",
     "text": [
      "times=(128,) freq=(64,)\n"
     ]
    }
   ],
   "source": [
    "# check if data has nans or spectra <= 0\n",
    "# preprocess_dataset(data_dir=os.getcwd()+'/',\n",
    "#                    fname_x = \"X_afgpy.h5\",\n",
    "#                    fname_y = \"Y_afgpy.h5\")\n",
    "\n",
    "# prepare files for normalization and training\n",
    "# prepare_dataset_scalers(data_dir=os.getcwd()+'/',\n",
    "#                         out_dir=os.getcwd()+'/',\n",
    "#                         fname_x = \"X_afgpy.h5\",\n",
    "#                         fname_y = \"Y_afgpy.h5\")\n",
    "\n",
    "# initialize dataset loader\n",
    "data = SpectraDataset(working_dir=os.getcwd()+'/')\n",
    "\n",
    "# load dataset\n",
    "data.load_and_normalize_data(data_dir=None, limit=None, fname_x = \"X_afgpy.h5\", fname_y = \"Y_afgpy.h5\")"
   ],
   "metadata": {
    "collapsed": false,
    "ExecuteTime": {
     "end_time": "2024-02-15T09:36:37.521971874Z",
     "start_time": "2024-02-15T09:36:25.327977093Z"
    }
   },
   "id": "7dea0061cc732815",
   "execution_count": 3
  },
  {
   "cell_type": "code",
   "outputs": [
    {
     "data": {
      "text/plain": "Text(0.5, 1.0, 'Data distribution')"
     },
     "execution_count": 5,
     "metadata": {},
     "output_type": "execute_result"
    },
    {
     "data": {
      "text/plain": "<Figure size 640x480 with 1 Axes>",
      "image/png": "[encoded data removed]"
     },
     "metadata": {},
     "output_type": "display_data"
    }
   ],
   "source": [
    "counts, bins = np.histogram(data.X_norm, bins=20)\n",
    "plt.stairs(counts, bins)\n",
    "plt.yscale(\"log\")\n",
    "plt.xlabel(\"# counds of \")\n",
    "plt.ylabel(\"Counts\")\n",
    "plt.title(\"Data distribution\")"
   ],
   "metadata": {
    "collapsed": false,
    "ExecuteTime": {
     "end_time": "2024-02-15T09:42:42.073700687Z",
     "start_time": "2024-02-15T09:42:19.662886328Z"
    }
   },
   "id": "fa04eb72c0ff27c1",
   "execution_count": 5
  },
  {
   "cell_type": "code",
   "outputs": [
    {
     "name": "stdout",
     "output_type": "stream",
     "text": [
      "(393216, 128, 64)\n"
     ]
    }
   ],
   "source": [
    "print(data.X_norm.shape)"
   ],
   "metadata": {
    "collapsed": false,
    "ExecuteTime": {
     "end_time": "2024-02-15T10:32:28.653421173Z",
     "start_time": "2024-02-15T10:32:28.611998188Z"
    }
   },
   "id": "99e18dc38ef2a997",
   "execution_count": 6
  },
  {
   "cell_type": "markdown",
   "source": [
    "# Create subset of actual data for testing/debuggin"
   ],
   "metadata": {
    "collapsed": false
   },
   "id": "8835d7cdc4d26ae5"
  },
  {
   "cell_type": "code",
   "outputs": [],
   "source": [
    "lim = 1000\n",
    "indices = list(range(lim))\n",
    "np.random.shuffle(indices)\n",
    "with h5py.File(data.working_dir+\"X.h5\",\"w\") as f:\n",
    "    f.create_dataset(name=\"X\", data=data.X[indices])\n",
    "    f.create_dataset(name=\"times\", data=data.times)\n",
    "    f.create_dataset(name=\"freqs\", data=data.freqs)\n",
    "with h5py.File(data.working_dir+\"Y.h5\",\"w\") as f:\n",
    "    f.create_dataset(name=\"Y\", data=data.y[indices])\n",
    "    f.create_dataset(name=\"keys\", data=np.array(list(data.feature_names),dtype=\"S\"))"
   ],
   "metadata": {
    "collapsed": false,
    "ExecuteTime": {
     "end_time": "2024-02-15T13:41:46.514100923Z",
     "start_time": "2024-02-15T13:41:46.471462146Z"
    }
   },
   "id": "5fb8311aaaca0dac",
   "execution_count": 8
  },
  {
   "cell_type": "code",
   "outputs": [],
   "source": [],
   "metadata": {
    "collapsed": false
   },
   "id": "b1664c0e12622a7d"
  }
 ],
 "metadata": {
  "kernelspec": {
   "display_name": "Python 3",
   "language": "python",
   "name": "python3"
  },
  "language_info": {
   "codemirror_mode": {
    "name": "ipython",
    "version": 2
   },
   "file_extension": ".py",
   "mimetype": "text/x-python",
   "name": "python",
   "nbconvert_exporter": "python",
   "pygments_lexer": "ipython2",
   "version": "2.7.6"
  }
 },
 "nbformat": 4,
 "nbformat_minor": 5
}
