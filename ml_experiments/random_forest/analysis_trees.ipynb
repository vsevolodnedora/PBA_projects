{
 "cells": [
  {
   "cell_type": "code",
   "execution_count": 2,
   "id": "initial_id",
   "metadata": {
    "ExecuteTime": {
     "end_time": "2024-01-29T15:13:48.350971138Z",
     "start_time": "2024-01-29T15:13:48.302505163Z"
    },
    "collapsed": true
   },
   "outputs": [],
   "source": [
    "import pandas as pd\n",
    "import os.path\n",
    "import os\n",
    "import h5py\n",
    "import copy\n",
    "import numpy as np\n",
    "import tqdm\n",
    "import itertools\n",
    "import joblib\n",
    "import optuna\n",
    "import matplotlib.pyplot as plt\n",
    "from matplotlib import colors\n",
    "from matplotlib.colors import LogNorm, Normalize\n",
    "import json\n",
    "\n",
    "from sklearn.ensemble import RandomForestClassifier,RandomForestRegressor\n",
    "from sklearn.model_selection import train_test_split\n",
    "from sklearn.metrics import mean_squared_error, r2_score\n",
    "\n",
    "from sklearn.ensemble import RandomForestClassifier, RandomForestRegressor\n",
    "from sklearn.inspection import permutation_importance\n",
    "from sklearn import preprocessing\n",
    "\n",
    "\n",
    "import torch\n",
    "device = torch.device(\"cuda\" if torch.cuda.is_available() else \"cpu\")\n",
    "if device.type == 'cuda':\n",
    "    torch.cuda.empty_cache()"
   ]
  },
  {
   "cell_type": "code",
   "execution_count": 13,
   "id": "1364e8b32c1bcea3",
   "metadata": {
    "ExecuteTime": {
     "end_time": "2024-01-29T15:03:48.247580552Z",
     "start_time": "2024-01-29T15:03:44.360568107Z"
    },
    "collapsed": false
   },
   "outputs": [
    {
     "name": "stdout",
     "output_type": "stream",
     "text": [
      "<class 'pandas.core.frame.DataFrame'>\n",
      "Index: 6480000 entries, 0 to 6479999\n",
      "Data columns (total 10 columns):\n",
      " #   Column     Dtype  \n",
      "---  ------     -----  \n",
      " 0   eps_e      float64\n",
      " 1   eps_b      float64\n",
      " 2   eps_t      float64\n",
      " 3   p          float64\n",
      " 4   theta_obs  float64\n",
      " 5   n_ism      float64\n",
      " 6   freq       float64\n",
      " 7   time       float64\n",
      " 8   flux       float64\n",
      " 9   text       int64  \n",
      "dtypes: float64(9), int64(1)\n",
      "memory usage: 543.8 MB\n",
      "None\n",
      "File loaded: /media/vsevolod/T7/work/prj_kn_afterglow/SFHoTim276_135_135_45km_150mstg_B0_FUKA/collated.csv None\n"
     ]
    }
   ],
   "source": [
    "AFGRUNDIR = \"/media/vsevolod/T7/work/prj_kn_afterglow/\"\n",
    "\n",
    "sim = {}; sim[\"name\"] = \"SFHoTim276_135_135_45km_150mstg_B0_FUKA\"\n",
    "collated_file_path = AFGRUNDIR + sim[\"name\"] + '/' + \"collated.csv\"\n",
    "working_dir = AFGRUNDIR + sim[\"name\"] + '/rf/'\n",
    "if not os.path.isdir(working_dir): os.mkdir(working_dir)\n",
    "\n",
    "assert os.path.isfile(collated_file_path), \"Collated file not found\"\n",
    "df = pd.read_csv(collated_file_path, index_col=0)\n",
    "print(f\"File loaded: {collated_file_path} {print(df.info(memory_usage='deep'))}\")\n",
    "\n",
    "features_names = [col for col in list(df.columns) if col not in [\"flux\"]] # here time is included"
   ]
  },
  {
   "cell_type": "code",
   "execution_count": 4,
   "id": "de1b740997dfb10f",
   "metadata": {
    "ExecuteTime": {
     "end_time": "2024-01-29T15:03:56.622628296Z",
     "start_time": "2024-01-29T15:03:50.899177693Z"
    },
    "collapsed": false
   },
   "outputs": [
    {
     "name": "stdout",
     "output_type": "stream",
     "text": [
      "\t> Visualizing SFHoTim276_135_135_45km_150mstg_B0_FUKA Shape: (6480000, 10)\n"
     ]
    },
    {
     "data": {
      "text/html": [
       "<div>\n",
       "<style scoped>\n",
       "    .dataframe tbody tr th:only-of-type {\n",
       "        vertical-align: middle;\n",
       "    }\n",
       "\n",
       "    .dataframe tbody tr th {\n",
       "        vertical-align: top;\n",
       "    }\n",
       "\n",
       "    .dataframe thead th {\n",
       "        text-align: right;\n",
       "    }\n",
       "</style>\n",
       "<table border=\"1\" class=\"dataframe\">\n",
       "  <thead>\n",
       "    <tr style=\"text-align: right;\">\n",
       "      <th></th>\n",
       "      <th>eps_e</th>\n",
       "      <th>eps_b</th>\n",
       "      <th>eps_t</th>\n",
       "      <th>p</th>\n",
       "      <th>theta_obs</th>\n",
       "      <th>n_ism</th>\n",
       "      <th>freq</th>\n",
       "      <th>time</th>\n",
       "      <th>flux</th>\n",
       "      <th>text</th>\n",
       "    </tr>\n",
       "  </thead>\n",
       "  <tbody>\n",
       "    <tr>\n",
       "      <th>0</th>\n",
       "      <td>0.001</td>\n",
       "      <td>0.001</td>\n",
       "      <td>1.0</td>\n",
       "      <td>2.2</td>\n",
       "      <td>0.0</td>\n",
       "      <td>0.05</td>\n",
       "      <td>2.400000e+09</td>\n",
       "      <td>100000.000000</td>\n",
       "      <td>0.000107</td>\n",
       "      <td>32</td>\n",
       "    </tr>\n",
       "    <tr>\n",
       "      <th>1</th>\n",
       "      <td>0.001</td>\n",
       "      <td>0.001</td>\n",
       "      <td>1.0</td>\n",
       "      <td>2.2</td>\n",
       "      <td>0.0</td>\n",
       "      <td>0.05</td>\n",
       "      <td>2.400000e+09</td>\n",
       "      <td>106332.657164</td>\n",
       "      <td>0.000123</td>\n",
       "      <td>32</td>\n",
       "    </tr>\n",
       "  </tbody>\n",
       "</table>\n",
       "</div>"
      ],
      "text/plain": [
       "   eps_e  eps_b  eps_t    p  theta_obs  n_ism          freq           time  \\\n",
       "0  0.001  0.001    1.0  2.2        0.0   0.05  2.400000e+09  100000.000000   \n",
       "1  0.001  0.001    1.0  2.2        0.0   0.05  2.400000e+09  106332.657164   \n",
       "\n",
       "       flux  text  \n",
       "0  0.000107    32  \n",
       "1  0.000123    32  "
      ]
     },
     "metadata": {},
     "output_type": "display_data"
    },
    {
     "name": "stdout",
     "output_type": "stream",
     "text": [
      "\t Duplicated_rows: 0\n",
      "\t> Numeric features: 10 \n",
      "Index(['eps_e', 'eps_b', 'eps_t', 'p', 'theta_obs', 'n_ism', 'freq', 'time',\n",
      "       'flux', 'text'],\n",
      "      dtype='object')\n",
      "\t> Object features: 0 \n",
      "Index([], dtype='object')\n",
      "\t Analyzing SFHoTim276_135_135_45km_150mstg_B0_FUKA Summary:\n"
     ]
    },
    {
     "data": {
      "text/html": [
       "<div>\n",
       "<style scoped>\n",
       "    .dataframe tbody tr th:only-of-type {\n",
       "        vertical-align: middle;\n",
       "    }\n",
       "\n",
       "    .dataframe tbody tr th {\n",
       "        vertical-align: top;\n",
       "    }\n",
       "\n",
       "    .dataframe thead th {\n",
       "        text-align: right;\n",
       "    }\n",
       "</style>\n",
       "<table border=\"1\" class=\"dataframe\">\n",
       "  <thead>\n",
       "    <tr style=\"text-align: right;\">\n",
       "      <th></th>\n",
       "      <th>is_unique</th>\n",
       "      <th>unique</th>\n",
       "      <th>with_nan</th>\n",
       "      <th>percent_nan</th>\n",
       "      <th>min</th>\n",
       "      <th>max</th>\n",
       "      <th>mean</th>\n",
       "      <th>dtype</th>\n",
       "    </tr>\n",
       "  </thead>\n",
       "  <tbody>\n",
       "    <tr>\n",
       "      <th>eps_e</th>\n",
       "      <td>False</td>\n",
       "      <td>5</td>\n",
       "      <td>False</td>\n",
       "      <td>0.0</td>\n",
       "      <td>1.000000e-03</td>\n",
       "      <td>5.000000e-01</td>\n",
       "      <td>1.322000e-01</td>\n",
       "      <td>float64</td>\n",
       "    </tr>\n",
       "    <tr>\n",
       "      <th>eps_b</th>\n",
       "      <td>False</td>\n",
       "      <td>5</td>\n",
       "      <td>False</td>\n",
       "      <td>0.0</td>\n",
       "      <td>1.000000e-03</td>\n",
       "      <td>5.000000e-01</td>\n",
       "      <td>1.322000e-01</td>\n",
       "      <td>float64</td>\n",
       "    </tr>\n",
       "    <tr>\n",
       "      <th>eps_t</th>\n",
       "      <td>False</td>\n",
       "      <td>4</td>\n",
       "      <td>False</td>\n",
       "      <td>0.0</td>\n",
       "      <td>1.000000e-02</td>\n",
       "      <td>1.000000e+00</td>\n",
       "      <td>4.025000e-01</td>\n",
       "      <td>float64</td>\n",
       "    </tr>\n",
       "    <tr>\n",
       "      <th>p</th>\n",
       "      <td>False</td>\n",
       "      <td>4</td>\n",
       "      <td>False</td>\n",
       "      <td>0.0</td>\n",
       "      <td>2.200000e+00</td>\n",
       "      <td>2.800000e+00</td>\n",
       "      <td>2.500000e+00</td>\n",
       "      <td>float64</td>\n",
       "    </tr>\n",
       "    <tr>\n",
       "      <th>theta_obs</th>\n",
       "      <td>False</td>\n",
       "      <td>3</td>\n",
       "      <td>False</td>\n",
       "      <td>0.0</td>\n",
       "      <td>0.000000e+00</td>\n",
       "      <td>1.570796e+00</td>\n",
       "      <td>7.853982e-01</td>\n",
       "      <td>float64</td>\n",
       "    </tr>\n",
       "    <tr>\n",
       "      <th>n_ism</th>\n",
       "      <td>False</td>\n",
       "      <td>6</td>\n",
       "      <td>False</td>\n",
       "      <td>0.0</td>\n",
       "      <td>1.000000e-03</td>\n",
       "      <td>1.000000e+00</td>\n",
       "      <td>2.768333e-01</td>\n",
       "      <td>float64</td>\n",
       "    </tr>\n",
       "    <tr>\n",
       "      <th>freq</th>\n",
       "      <td>False</td>\n",
       "      <td>6</td>\n",
       "      <td>False</td>\n",
       "      <td>0.0</td>\n",
       "      <td>2.400000e+09</td>\n",
       "      <td>9.300000e+10</td>\n",
       "      <td>3.123333e+10</td>\n",
       "      <td>float64</td>\n",
       "    </tr>\n",
       "    <tr>\n",
       "      <th>time</th>\n",
       "      <td>False</td>\n",
       "      <td>150</td>\n",
       "      <td>False</td>\n",
       "      <td>0.0</td>\n",
       "      <td>1.000000e+05</td>\n",
       "      <td>9.404449e+08</td>\n",
       "      <td>1.052639e+08</td>\n",
       "      <td>float64</td>\n",
       "    </tr>\n",
       "    <tr>\n",
       "      <th>flux</th>\n",
       "      <td>True</td>\n",
       "      <td>6480000</td>\n",
       "      <td>False</td>\n",
       "      <td>0.0</td>\n",
       "      <td>2.854495e-13</td>\n",
       "      <td>1.408291e+02</td>\n",
       "      <td>2.039790e-01</td>\n",
       "      <td>float64</td>\n",
       "    </tr>\n",
       "    <tr>\n",
       "      <th>text</th>\n",
       "      <td>False</td>\n",
       "      <td>1</td>\n",
       "      <td>False</td>\n",
       "      <td>0.0</td>\n",
       "      <td>3.200000e+01</td>\n",
       "      <td>3.200000e+01</td>\n",
       "      <td>3.200000e+01</td>\n",
       "      <td>int64</td>\n",
       "    </tr>\n",
       "  </tbody>\n",
       "</table>\n",
       "</div>"
      ],
      "text/plain": [
       "           is_unique   unique  with_nan  percent_nan           min  \\\n",
       "eps_e          False        5     False          0.0  1.000000e-03   \n",
       "eps_b          False        5     False          0.0  1.000000e-03   \n",
       "eps_t          False        4     False          0.0  1.000000e-02   \n",
       "p              False        4     False          0.0  2.200000e+00   \n",
       "theta_obs      False        3     False          0.0  0.000000e+00   \n",
       "n_ism          False        6     False          0.0  1.000000e-03   \n",
       "freq           False        6     False          0.0  2.400000e+09   \n",
       "time           False      150     False          0.0  1.000000e+05   \n",
       "flux            True  6480000     False          0.0  2.854495e-13   \n",
       "text           False        1     False          0.0  3.200000e+01   \n",
       "\n",
       "                    max          mean    dtype  \n",
       "eps_e      5.000000e-01  1.322000e-01  float64  \n",
       "eps_b      5.000000e-01  1.322000e-01  float64  \n",
       "eps_t      1.000000e+00  4.025000e-01  float64  \n",
       "p          2.800000e+00  2.500000e+00  float64  \n",
       "theta_obs  1.570796e+00  7.853982e-01  float64  \n",
       "n_ism      1.000000e+00  2.768333e-01  float64  \n",
       "freq       9.300000e+10  3.123333e+10  float64  \n",
       "time       9.404449e+08  1.052639e+08  float64  \n",
       "flux       1.408291e+02  2.039790e-01  float64  \n",
       "text       3.200000e+01  3.200000e+01    int64  "
      ]
     },
     "metadata": {},
     "output_type": "display_data"
    },
    {
     "name": "stdout",
     "output_type": "stream",
     "text": [
      "total number of light curves: 43200 times: 150\n"
     ]
    }
   ],
   "source": [
    "def _visualize_df(df:pd.DataFrame, name:str):\n",
    "    print(f\"\\t> Visualizing {name} Shape: {df.shape}\")\n",
    "\n",
    "    display(df.head(2))\n",
    "\n",
    "    print(f\"\\t Duplicated_rows: {df.duplicated().sum()}\")\n",
    "\n",
    "    # check df properties\n",
    "    def analyze_df(df : pd.DataFrame)->pd.DataFrame:\n",
    "        res = pd.DataFrame({\n",
    "            \"is_unique\": df.nunique() == len(df),\n",
    "            \"unique\": df.nunique(),\n",
    "            \"with_nan\":df.isna().any(),\n",
    "            \"percent_nan\":round((df.isnull().sum()/len(df))*100,4),\n",
    "            \"min\":df.min(),\n",
    "            \"max\":df.max(),\n",
    "            \"mean\":df.mean(),\n",
    "            \"dtype\":df.dtypes\n",
    "        })\n",
    "        return res\n",
    "    print(f\"\\t> Numeric features: {df.select_dtypes(exclude='object').shape[1]} \\n\"\n",
    "          f\"{df.select_dtypes(exclude='object').keys()}\")\n",
    "    print(f\"\\t> Object features: {df.select_dtypes(exclude='number').shape[1]} \\n\"\n",
    "          f\"{df.select_dtypes(exclude='number').keys()}\")\n",
    "    print(f\"\\t Analyzing {name} Summary:\")\n",
    "    metadata = analyze_df(df=df)\n",
    "    return metadata\n",
    "metadata = _visualize_df(df=df, name=sim[\"name\"])\n",
    "display(metadata)\n",
    "\n",
    "# Print total number of lightcurves\n",
    "n_curves = np.prod([metadata[\"unique\"][key] for key in df.columns if key not in [\"flux\",\"time\"]])\n",
    "n_times = metadata[\"unique\"][\"time\"]\n",
    "print(f\"total number of light curves: {n_curves} times: {n_times}\")"
   ]
  },
  {
   "cell_type": "markdown",
   "id": "8253bb9f0e23a753",
   "metadata": {
    "collapsed": false
   },
   "source": [
    "# Prepare Data for decision trees models\n",
    "\n",
    "`NOTE` We only consider one dataset here (no train/test split)"
   ]
  },
  {
   "cell_type": "code",
   "execution_count": 17,
   "id": "3ed1ff4beb85a255",
   "metadata": {
    "ExecuteTime": {
     "end_time": "2024-01-29T15:08:51.568142428Z",
     "start_time": "2024-01-29T15:08:51.563773838Z"
    },
    "collapsed": false
   },
   "outputs": [],
   "source": [
    "def prep_data(df:pd.DataFrame):\n",
    "    # remove unnecessary features\n",
    "    print(f'Extraction times: {df[\"text\"].unique()}')\n",
    "    df = df.loc[df[\"text\"] == 32]\n",
    "    df.drop([\"text\"], axis=1, inplace=True)\n",
    "    features_names.remove(\"text\")\n",
    "    \n",
    "    # extract X and y as arrays\n",
    "    X = df.copy()\n",
    "    y = np.array( X.loc[:,\"flux\"] )\n",
    "    X = np.array( X.loc[:,features_names] )\n",
    "    print(f\"X shape: {X.shape}, y shape={y.shape}\")\n",
    "    \n",
    "    # save h5 original data\n",
    "    with h5py.File as f:\n",
    "        f.create_dataset(name=\"X\", data=X)\n",
    "        f.create_dataset(name=\"y\", data=y)\n",
    "        f.create_dataset(name=\"features\", data=features_names)\n",
    "    \n",
    "    # normalize X\n",
    "    scaler_x = preprocessing.MinMaxScaler()\n",
    "    scaler_x.fit(X)\n",
    "    norm_X = scaler_x.transform(X)\n",
    "    fname_x = working_dir+'x_scaler.pkl'\n",
    "    joblib.dump(scaler_x, working_dir+'x_scaler.pkl')\n",
    "    # scaler_x = joblib.load(working_dir+'x_scaler.pkl')\n",
    "    \n",
    "    # normalize y\n",
    "    y = np.log10(y)\n",
    "    \n",
    "    # save info for future\n",
    "    json.dump({\n",
    "        \"x_scaler\":fname_x,\n",
    "        \"y_scaler\":\"log10\",\n",
    "        \"features\":features_names,\n",
    "        \"freqs\":np.unique(np.array(df.loc[:,\"freq\"])),\n",
    "        \"times\":np.array(df[\"time\"].unique())\n",
    "    },\n",
    "    working_dir+\"train_data_info.json\")\n",
    "    \n"
   ]
  },
  {
   "cell_type": "code",
   "execution_count": 18,
   "id": "2f639ea3",
   "metadata": {},
   "outputs": [
    {
     "name": "stdout",
     "output_type": "stream",
     "text": [
      "Extraction times: [32]\n",
      "X shape: (6480000, 8), y shape=(6480000,)\n"
     ]
    }
   ],
   "source": [
    "\n",
    "print(f'Extraction times: {df[\"text\"].unique()}')\n",
    "df = df.loc[df[\"text\"] == 32]\n",
    "df.drop([\"text\"], axis=1, inplace=True)\n",
    "features_names.remove(\"text\")\n",
    "\n",
    "X = df.copy()\n",
    "y = np.array( X.loc[:,\"flux\"] )\n",
    "X = np.array( X.loc[:,features_names] )\n",
    "# NOTE these are not light curves, these are just fluxes\n",
    "print(f\"X shape: {X.shape}, y shape={y.shape}\")"
   ]
  },
  {
   "cell_type": "code",
   "execution_count": 8,
   "id": "47eaf22330644534",
   "metadata": {
    "ExecuteTime": {
     "end_time": "2024-01-29T10:50:18.278495182Z",
     "start_time": "2024-01-29T10:49:51.340090241Z"
    },
    "collapsed": false
   },
   "outputs": [
    {
     "name": "stdout",
     "output_type": "stream",
     "text": [
      "Best trial: {'n_estimators': 209, 'max_depth': 75, 'min_samples_split': 2, 'min_samples_leaf': 2}\n",
      "Extraction times: [32]\n",
      "X shape: (6480000, 8), y shape=(6480000,)\n"
     ]
    },
    {
     "name": "stderr",
     "output_type": "stream",
     "text": [
      "\n",
      "KeyboardInterrupt\n",
      "\n"
     ]
    }
   ],
   "source": [
    "# Train the best model on the entire datset\n",
    "rf = RandomForestRegressor(\n",
    "    **study.best_trial.params,\n",
    "    random_state=23,\n",
    "    oob_score=True,\n",
    "    n_jobs=16\n",
    ")\n",
    "\n",
    "rf = rf.fit(X, y)\n",
    "joblib.dump(rf, os.getcwd()+'/'+\"models/trees/rf_best.joblib\") # compress=0"
   ]
  },
  {
   "cell_type": "code",
   "execution_count": 5,
   "id": "c0f547182eb58bf7",
   "metadata": {
    "ExecuteTime": {
     "end_time": "2024-01-01T19:41:02.783248747Z",
     "start_time": "2024-01-01T19:28:18.237566935Z"
    },
    "collapsed": false
   },
   "outputs": [],
   "source": [
    "def fit_random_forest(X:np.ndarray,\n",
    "                      y:np.ndarray):\n",
    "    rf = RandomForestRegressor(\n",
    "        n_estimators=400,\n",
    "        n_jobs=-1,\n",
    "        min_samples_leaf = 20,\n",
    "        oob_score=True, # out-of-bag (OOB) score, which estimates the model’s generalization performance.\n",
    "        random_state = 42)\n",
    "    rf.fit(X, y)\n",
    "    return rf\n",
    "rf = fit_random_forest(X, y)\n",
    "joblib.dump(rf, os.getcwd()+'/'+\"models/trees/rf0.joblib\") # compress=0"
   ]
  },
  {
   "cell_type": "code",
   "execution_count": 14,
   "id": "e84e71df89be3592",
   "metadata": {
    "ExecuteTime": {
     "end_time": "2024-01-23T10:33:42.311500412Z",
     "start_time": "2024-01-23T10:33:41.969595067Z"
    },
    "collapsed": false
   },
   "outputs": [],
   "source": [
    "rf = joblib.load(working_dir +\"/rf0.joblib\")"
   ]
  },
  {
   "cell_type": "code",
   "execution_count": 19,
   "id": "2ab0a89803e855eb",
   "metadata": {
    "ExecuteTime": {
     "end_time": "2024-01-01T19:41:43.207148967Z",
     "start_time": "2024-01-01T19:41:25.033585739Z"
    },
    "collapsed": false
   },
   "outputs": [
    {
     "name": "stdout",
     "output_type": "stream",
     "text": [
      "Out-of-Bag Score: False\n",
      "Mean Squared Error: 20.548478486809937\n",
      "R-squared: -3.653223836119823\n"
     ]
    }
   ],
   "source": [
    "# Access the OOB Score\n",
    "oob_score = rf.oob_score\n",
    "print(f'Out-of-Bag Score: {oob_score}')\n",
    "\n",
    "# Making predictions on the same data or new data\n",
    "predictions = rf.predict(X)\n",
    "\n",
    "# Evaluating the model\n",
    "mse = mean_squared_error(y, predictions)\n",
    "print(f'Mean Squared Error: {mse}')\n",
    "\n",
    "r2 = r2_score(y, predictions)\n",
    "print(f'R-squared: {r2}')"
   ]
  },
  {
   "cell_type": "code",
   "execution_count": 20,
   "id": "c6d2499379a0bf2a",
   "metadata": {
    "ExecuteTime": {
     "end_time": "2024-01-29T16:14:35.551903908Z",
     "start_time": "2024-01-29T16:14:35.508387891Z"
    },
    "collapsed": false
   },
   "outputs": [],
   "source": [
    "def inference(rf, req_pars:dict, times):\n",
    "    req_pars[\"time\"] = 0.\n",
    "    pars = [req_pars[key] for key in df.keys() if not key in [\"flux\"]] # to preserve the order for inference\n",
    "    _pars = np.vstack(([np.array(pars) for _ in range(len(times))]))\n",
    "    _pars[:,-1] = times\n",
    "    pred = rf.predict( _pars )\n",
    "    return pred"
   ]
  },
  {
   "cell_type": "code",
   "execution_count": 21,
   "id": "cc0b726643ddd92e",
   "metadata": {
    "ExecuteTime": {
     "end_time": "2024-01-29T16:14:39.349275306Z",
     "start_time": "2024-01-29T16:14:38.508862604Z"
    },
    "collapsed": false
   },
   "outputs": [
    {
     "name": "stderr",
     "output_type": "stream",
     "text": [
      "/tmp/ipykernel_90717/47151043.py:43: RuntimeWarning: invalid value encountered in log10\n",
      "  lc_nn = np.log10( inference(rf, req_pars, times) )\n",
      "/tmp/ipykernel_90717/47151043.py:43: RuntimeWarning: invalid value encountered in log10\n",
      "  lc_nn = np.log10( inference(rf, req_pars, times) )\n",
      "/tmp/ipykernel_90717/47151043.py:43: RuntimeWarning: invalid value encountered in log10\n",
      "  lc_nn = np.log10( inference(rf, req_pars, times) )\n",
      "/tmp/ipykernel_90717/47151043.py:43: RuntimeWarning: invalid value encountered in log10\n",
      "  lc_nn = np.log10( inference(rf, req_pars, times) )\n",
      "/tmp/ipykernel_90717/47151043.py:43: RuntimeWarning: invalid value encountered in log10\n",
      "  lc_nn = np.log10( inference(rf, req_pars, times) )\n",
      "/tmp/ipykernel_90717/47151043.py:43: RuntimeWarning: invalid value encountered in log10\n",
      "  lc_nn = np.log10( inference(rf, req_pars, times) )\n",
      "/tmp/ipykernel_90717/47151043.py:43: RuntimeWarning: invalid value encountered in log10\n",
      "  lc_nn = np.log10( inference(rf, req_pars, times) )\n",
      "/tmp/ipykernel_90717/47151043.py:43: RuntimeWarning: invalid value encountered in log10\n",
      "  lc_nn = np.log10( inference(rf, req_pars, times) )\n",
      "/tmp/ipykernel_90717/47151043.py:43: RuntimeWarning: invalid value encountered in log10\n",
      "  lc_nn = np.log10( inference(rf, req_pars, times) )\n",
      "/tmp/ipykernel_90717/47151043.py:43: RuntimeWarning: invalid value encountered in log10\n",
      "  lc_nn = np.log10( inference(rf, req_pars, times) )\n",
      "/tmp/ipykernel_90717/47151043.py:43: RuntimeWarning: invalid value encountered in log10\n",
      "  lc_nn = np.log10( inference(rf, req_pars, times) )\n",
      "/tmp/ipykernel_90717/47151043.py:43: RuntimeWarning: invalid value encountered in log10\n",
      "  lc_nn = np.log10( inference(rf, req_pars, times) )\n",
      "/tmp/ipykernel_90717/47151043.py:43: RuntimeWarning: invalid value encountered in log10\n",
      "  lc_nn = np.log10( inference(rf, req_pars, times) )\n",
      "/tmp/ipykernel_90717/47151043.py:43: RuntimeWarning: invalid value encountered in log10\n",
      "  lc_nn = np.log10( inference(rf, req_pars, times) )\n",
      "/tmp/ipykernel_90717/47151043.py:43: RuntimeWarning: invalid value encountered in log10\n",
      "  lc_nn = np.log10( inference(rf, req_pars, times) )\n",
      "/tmp/ipykernel_90717/47151043.py:43: RuntimeWarning: invalid value encountered in log10\n",
      "  lc_nn = np.log10( inference(rf, req_pars, times) )\n",
      "/tmp/ipykernel_90717/47151043.py:43: RuntimeWarning: invalid value encountered in log10\n",
      "  lc_nn = np.log10( inference(rf, req_pars, times) )\n",
      "/tmp/ipykernel_90717/47151043.py:43: RuntimeWarning: invalid value encountered in log10\n",
      "  lc_nn = np.log10( inference(rf, req_pars, times) )\n"
     ]
    },
    {
     "data": {
      "image/png": "[encoded data removed]",
      "text/plain": [
       "<Figure size 1500x500 with 6 Axes>"
      ]
     },
     "metadata": {},
     "output_type": "display_data"
    }
   ],
   "source": [
    "def plot_lcs(tasks, rf, df):\n",
    "    times = np.array(df[\"time\"].unique())\n",
    "    freqs = np.unique(np.array(df.loc[:,\"freq\"]))\n",
    "    norm = LogNorm(vmin=np.min(freqs),\n",
    "                   vmax=np.max(freqs))\n",
    "    cmap_name = \"coolwarm_r\" # 'coolwarm_r'\n",
    "    cmap = plt.get_cmap(cmap_name)\n",
    "\n",
    "    fig, axes = plt.subplots(2,3, figsize=(15,5), sharex='all',\n",
    "                             gridspec_kw={'height_ratios': [3, 1]})\n",
    "    \n",
    "    \n",
    "    \n",
    "    for i, task in enumerate(tasks):\n",
    "        # pars = [req_pars[feat] for feat in features_names]\n",
    "        l2s = []\n",
    "        for freq in freqs:\n",
    "            req_pars = copy.deepcopy(task[\"pars\"])\n",
    "            req_pars[\"freq\"] = freq\n",
    "            \n",
    "            # Create a boolean mask based on the dictionary\n",
    "            mask = pd.Series(True, index=df.index)\n",
    "            for col, value in req_pars.items():\n",
    "                i_mask = df[col] == value\n",
    "                mask = mask & i_mask\n",
    "                # if np.sum(mask.astype(int)) == 0:\n",
    "                #     print(f\"Error col={col} val={value}\")\n",
    "                #     return 0\n",
    "            # print(np.array(df[\"flux\"][mask]))\n",
    "            # get light curve from training data\n",
    "            lc = np.log10( np.array(df[\"flux\"][mask]) ).flatten()\n",
    "         \n",
    "            \n",
    "            \n",
    "            assert len(lc) == len(times), \" size mismatch for lc\"\n",
    "            # \n",
    "            # \n",
    "            l11, = axes[0, i].plot(times/86400, lc,ls='-', color='gray', alpha=0.5, label=f\"Original\") # for second legend\n",
    "            l21, = axes[0, i].plot(times/86400, lc,ls='-', color=cmap(norm(freq)), alpha=0.5, label=f\"{freq/1e9:.1f} GHz\")\n",
    "            l2s.append(l21)\n",
    "            \n",
    "            # # get light curve from model\n",
    "            lc_nn = np.log10( inference(rf, req_pars, times) )\n",
    "\n",
    "            # lc_nn = np.zeros_like(times)\n",
    "            # for it, time in enumerate(times):\n",
    "            #     req_pars[\"time\"] = time\n",
    "            #     pars =[req_pars[key] for key in df.keys() if not key in [\"flux\"]] # to preserve the order for inference\n",
    "            #     pred = rf.predict( np.array(pars).reshape(1,-1) )\n",
    "            #     lc_nn[it] = float(pred)\n",
    "            # lc_nn = np.log10(lc_nn)\n",
    "            l12, = axes[0, i].plot(times/86400, lc_nn,ls='--', color='gray', alpha=0.5, label=f\"cVAE\") # for second legend\n",
    "            l22, = axes[0, i].plot(times/86400, lc_nn,ls='--', color=cmap(norm(freq)), alpha=0.5)\n",
    "\n",
    "\n",
    "            # plot difference\n",
    "            axes[1, i].plot(times/86400, lc-lc_nn, ls='-', color=cmap(norm(freq)), alpha=0.5)\n",
    "            del mask\n",
    "        axes[0, i].set_xscale(\"log\")\n",
    "        axes[1, i].set_xlabel(r\"times [day]\")\n",
    "\n",
    "    axes[0,0].set_ylabel(r'$\\log_{10}(F_{\\nu})$')\n",
    "    axes[1,0].set_ylabel(r'$\\Delta\\log_{10}(F_{\\nu})$')\n",
    "\n",
    "    first_legend = axes[0,0].legend(handles=l2s, loc='upper right')\n",
    "\n",
    "    axes[0,0].add_artist(first_legend)\n",
    "    axes[0,0].legend(handles=[l11,l12], loc='lower right')\n",
    "\n",
    "    plt.tight_layout()\n",
    "    plt.show()\n",
    "tasks = [\n",
    "    {\"pars\":{\"eps_e\":0.001,\"eps_b\":0.01,\"eps_t\":1.,\"p\":2.2,\"theta_obs\":0.,\"n_ism\":1e0}, \"all_freqs\":True},\n",
    "    {\"pars\":{\"eps_e\":0.01,\"eps_b\":0.01,\"eps_t\":1.,\"p\":2.2,\"theta_obs\":0.,\"n_ism\":0.01}, \"all_freqs\":True},\n",
    "    {\"pars\":{\"eps_e\":0.1,\"eps_b\":0.01,\"eps_t\":1.,\"p\":2.2,\"theta_obs\":0.,\"n_ism\":0.001}, \"all_freqs\":True},\n",
    "]\n",
    "plot_lcs(tasks, rf, df)"
   ]
  },
  {
   "cell_type": "code",
   "execution_count": 48,
   "id": "7e5687a3e010b472",
   "metadata": {
    "ExecuteTime": {
     "end_time": "2024-01-01T20:48:40.279094101Z",
     "start_time": "2024-01-01T20:48:22.165834483Z"
    },
    "collapsed": false
   },
   "outputs": [
    {
     "name": "stdout",
     "output_type": "stream",
     "text": [
      "lcs=(43200, 150) lcs_nn=(43200, 150) freq=(43200, 150)\n"
     ]
    }
   ],
   "source": [
    "# compute lightcurves for train data\n",
    "\n",
    "times = np.array(df[\"time\"].unique())\n",
    "lcs = np.reshape(y, newshape=(len(y)//len(times),len(times)))\n",
    "\n",
    "yhat = rf.predict(X)\n",
    "lcs_nn = np.reshape(yhat, newshape=(len(yhat)//len(times),len(times)))\n",
    "\n",
    "allfreqs = np.reshape(df[\"freq\"], newshape=(len(df[\"freq\"])//len(times),len(times)))\n",
    "\n",
    "print(f\"lcs={lcs.shape} lcs_nn={lcs_nn.shape} freq={allfreqs.shape}\")\n",
    "# nn_lcs = rf.predict(X)"
   ]
  },
  {
   "cell_type": "code",
   "execution_count": 56,
   "id": "a15c87302d066ccf",
   "metadata": {
    "ExecuteTime": {
     "end_time": "2024-01-01T20:53:03.143784Z",
     "start_time": "2024-01-01T20:53:00.005471361Z"
    },
    "collapsed": false
   },
   "outputs": [
    {
     "name": "stdout",
     "output_type": "stream",
     "text": [
      "(43200, 150)\n"
     ]
    },
    {
     "data": {
      "image/png": "[encoded data removed]",
      "text/plain": [
       "<Figure size 1200x500 with 7 Axes>"
      ]
     },
     "metadata": {},
     "output_type": "display_data"
    }
   ],
   "source": [
    "# Plot Violin\n",
    "def find_nearest_index(array, value):\n",
    "    ''' Finds index of the value in the array that is the closest to the provided one '''\n",
    "    idx = (np.abs(array - value)).argmin()\n",
    "    return idx\n",
    "def plot_violin():\n",
    "    cmap_name = \"coolwarm_r\" # 'coolwarm_r'\n",
    "    cmap = plt.get_cmap(cmap_name)\n",
    "\n",
    "    freqs = np.array(df[\"freq\"].unique())\n",
    "    times = np.array(df[\"time\"].unique())\n",
    "    norm = LogNorm(vmin=np.min(freqs),\n",
    "                   vmax=np.max(freqs))\n",
    "\n",
    "    req_times = np.array([0.1, 1., 10., 100., 1000., 1e4]) * 86400.\n",
    "\n",
    "    log_lcs = np.log10(lcs)\n",
    "    log_nn_lcs = np.log10(lcs_nn)\n",
    "    delta = log_lcs - log_nn_lcs\n",
    "    print(delta.shape)\n",
    "\n",
    "    fig, ax = plt.subplots(2, 3, figsize=(12, 5), sharex=\"all\", sharey=\"all\")\n",
    "    ax = ax.flatten()\n",
    "    for ifreq, freq in enumerate(freqs):\n",
    "        i_mask1 = (allfreqs == freq).astype(int)#X[]#(np.array(df[\"freq\"]) == freq).astype(bool)\n",
    "\n",
    "        _delta = delta * i_mask1\n",
    "        \n",
    "        time_indeces = [find_nearest_index(times, t) for t in req_times]\n",
    "        _delta = _delta[:, time_indeces]\n",
    "        \n",
    "\n",
    "        color = cmap(norm(freqs[0]))\n",
    "\n",
    "        if np.sum(_delta) == 0:\n",
    "            raise ValueError(f\"np.sum(delta) == 0 delta={_delta.shape}\")\n",
    "        # print(_delta.shape)\n",
    "        violin = ax[ifreq].violinplot(_delta, positions=range(len(req_times)), showextrema=False, showmedians=True)\n",
    "\n",
    "\n",
    "        for pc in violin['bodies']:\n",
    "            pc.set_facecolor(color)\n",
    "        violin['cmedians'].set_color(color)\n",
    "        for it, t in enumerate(req_times):\n",
    "            ax[ifreq].vlines(it, np.quantile(_delta[:,it], 0.025), np.quantile(_delta[:,it], 0.975), color=color, linestyle='-', alpha=.8)\n",
    "\n",
    "        # ax[ifreq].hlines([-1,0,1], 0.1, 6.5, colors='gray', linestyles=['dashed', 'dotted', 'dashed'], alpha=0.5)\n",
    "\n",
    "\n",
    "        ax[ifreq].set_xticks(np.arange(0, len(req_times)))\n",
    "        # print(ax[ifreq].get_xticklabels(), ax[ifreq])\n",
    "        _str = lambda t : '{:.1f}'.format(t/86400.) if t/86400. < 1 else '{:.0f}'.format(t/86400.)\n",
    "        ax[ifreq].set_xticklabels([_str(t) for t in req_times])\n",
    "\n",
    "        ax[ifreq].annotate(f\"{freq/1e9:.1f} GHz\", xy=(1, 1),xycoords='axes fraction', fontsize=12, horizontalalignment='right', verticalalignment='bottom')\n",
    "        \n",
    "        ax[ifreq].set_ylim(-0.5,0.5)\n",
    "\n",
    "\n",
    "    # Create the new axis for marginal X and Y labels\n",
    "    ax = fig.add_subplot(111, frameon=False)\n",
    "\n",
    "    # Disable ticks. using ax.tick_params() works as well\n",
    "    ax.set_xticks([])\n",
    "    ax.set_yticks([])\n",
    "\n",
    "    # Set X and Y label. Add labelpad so that the text does not overlap the ticks\n",
    "    ax.set_xlabel(r\"Time [days]\", labelpad=20, fontsize=12)\n",
    "    ax.set_ylabel(r\"$\\Delta \\log_{10}(F_{\\nu})$\", labelpad=40, fontsize=12)\n",
    "\n",
    "    plt.tight_layout()\n",
    "    plt.show()\n",
    "\n",
    "plot_violin()"
   ]
  },
  {
   "cell_type": "markdown",
   "id": "96b6765ace269130",
   "metadata": {
    "collapsed": false
   },
   "source": [
    "# Feature importance\n",
    "\n",
    "`NOTE` here we perform data split\n",
    "\n",
    "Source for method: [towardsdatascience](https://towardsdatascience.com/best-practice-to-calculate-and-interpret-model-feature-importance-14f0e11ee660)"
   ]
  },
  {
   "cell_type": "code",
   "execution_count": 58,
   "id": "7c533a7b5350ddff",
   "metadata": {
    "ExecuteTime": {
     "end_time": "2024-01-04T14:00:45.403704849Z",
     "start_time": "2024-01-04T13:39:27.211829743Z"
    },
    "collapsed": false
   },
   "outputs": [
    {
     "name": "stdout",
     "output_type": "stream",
     "text": [
      "RF train accuracy: 0.996\n",
      "RF test accuracy: 0.995\n"
     ]
    },
    {
     "name": "stderr",
     "output_type": "stream",
     "text": [
      "\n",
      "KeyboardInterrupt\n",
      "\n"
     ]
    }
   ],
   "source": [
    "X_train, X_test, y_train, y_test = train_test_split(\n",
    "    X, y,\n",
    "    test_size=.25,  # 75% train 25% test\n",
    "    random_state=42,\n",
    "    shuffle=True\n",
    ")\n",
    "\n",
    "def permutation_importance_scores():\n",
    "    rf = RandomForestRegressor(\n",
    "        n_estimators=200,\n",
    "        n_jobs=2,#-1,\n",
    "        min_samples_leaf = 20,\n",
    "        oob_score=True,\n",
    "        random_state = 42\n",
    "    )\n",
    "    rf.fit(X_train, y_train)\n",
    "\n",
    "    print(f\"RF train accuracy: {rf.score(X_train, y_train):.3f}\")\n",
    "    print(f\"RF test accuracy: {rf.score(X_test, y_test):.3f}\")\n",
    "\n",
    "    #calculate permutation importance for test data \n",
    "    result_test = permutation_importance(\n",
    "        rf, X_test, y_test, n_repeats=20, random_state=42, n_jobs=2\n",
    "    )\n",
    "\n",
    "    sorted_importances_idx_test = result_test.importances_mean.argsort()\n",
    "    importances_test = pd.DataFrame(\n",
    "        result_test.importances[sorted_importances_idx_test].T,\n",
    "        columns=X.columns[sorted_importances_idx_test],\n",
    "    )\n",
    "\n",
    "    #calculate permutation importance for training data \n",
    "    result_train = permutation_importance(\n",
    "        rf, X_train, y_train, n_repeats=20, random_state=42, n_jobs=2\n",
    "    )\n",
    "\n",
    "    sorted_importances_idx_train = result_train.importances_mean.argsort()\n",
    "    importances_train = pd.DataFrame(\n",
    "        result_train.importances[sorted_importances_idx_train].T,\n",
    "        columns=X.columns[sorted_importances_idx_train],\n",
    "    )\n",
    "\n",
    "    f, axs = plt.subplots(1,2,figsize=(15,5))\n",
    "\n",
    "    importances_test.plot.box(vert=False, whis=10, ax = axs[0])\n",
    "    axs[0].set_title(\"Permutation Importances (test set)\")\n",
    "    axs[0].axvline(x=0, color=\"k\", linestyle=\"--\")\n",
    "    axs[0].set_xlabel(\"Decrease in accuracy score\")\n",
    "    axs[0].figure.tight_layout()\n",
    "\n",
    "    importances_train.plot.box(vert=False, whis=10, ax = axs[1])\n",
    "    axs[1].set_title(\"Permutation Importances (train set)\")\n",
    "    axs[1].axvline(x=0, color=\"k\", linestyle=\"--\")\n",
    "    axs[1].set_xlabel(\"Decrease in accuracy score\")\n",
    "    axs[1].figure.tight_layout()\n",
    "    return f\n",
    "permutation_importance_scores().show()"
   ]
  },
  {
   "cell_type": "code",
   "execution_count": 14,
   "id": "44accc77fd05eafe",
   "metadata": {
    "ExecuteTime": {
     "end_time": "2024-01-29T15:05:06.490873570Z",
     "start_time": "2024-01-29T15:05:06.340513564Z"
    },
    "collapsed": false
   },
   "outputs": [
    {
     "name": "stdout",
     "output_type": "stream",
     "text": [
      "Best trial: {'n_estimators': 209, 'max_depth': 75, 'min_samples_split': 2, 'min_samples_leaf': 2}\n"
     ]
    },
    {
     "data": {
      "application/vnd.plotly.v1+json": {
       "config": {
        "plotlyServerURL": "https://plot.ly"
       },
       "data": [
        {
         "mode": "markers",
         "name": "Objective Value",
         "type": "scatter",
         "x": [
          0,
          1,
          2,
          3,
          4,
          5,
          6,
          7,
          8,
          9,
          10,
          11,
          12,
          13,
          14,
          15,
          16,
          17,
          18,
          19
         ],
         "y": [
          -0.0030047524128885227,
          -0.0011151366727039365,
          -0.0011183030187621732,
          -0.003310046395894873,
          -0.0029820997288885947,
          -0.0029908165237852724,
          -0.0007903864769107944,
          -0.0020894803694897213,
          -0.002099829560876618,
          -0.0023948414146010536,
          -0.0011333160930946998,
          -0.0011469450387888963,
          -0.19874149100988375,
          -0.0011337383976232605,
          -0.001451939801639672,
          -0.0015284909968158145,
          -0.0007941376928129684,
          -0.0017465827200978917,
          -0.0020592763158796615,
          -0.0017831020045126632
         ]
        },
        {
         "mode": "lines",
         "name": "Best Value",
         "type": "scatter",
         "x": [
          0,
          1,
          2,
          3,
          4,
          5,
          6,
          7,
          8,
          9,
          10,
          11,
          12,
          13,
          14,
          15,
          16,
          17,
          18,
          19
         ],
         "y": [
          -0.0030047524128885227,
          -0.0011151366727039365,
          -0.0011151366727039365,
          -0.0011151366727039365,
          -0.0011151366727039365,
          -0.0011151366727039365,
          -0.0007903864769107944,
          -0.0007903864769107944,
          -0.0007903864769107944,
          -0.0007903864769107944,
          -0.0007903864769107944,
          -0.0007903864769107944,
          -0.0007903864769107944,
          -0.0007903864769107944,
          -0.0007903864769107944,
          -0.0007903864769107944,
          -0.0007903864769107944,
          -0.0007903864769107944,
          -0.0007903864769107944,
          -0.0007903864769107944
         ]
        },
        {
         "marker": {
          "color": "#cccccc"
         },
         "mode": "markers",
         "name": "Infeasible Trial",
         "showlegend": false,
         "type": "scatter",
         "x": [],
         "y": []
        }
       ],
       "layout": {
        "template": {
         "data": {
          "bar": [
           {
            "error_x": {
             "color": "#2a3f5f"
            },
            "error_y": {
             "color": "#2a3f5f"
            },
            "marker": {
             "line": {
              "color": "#E5ECF6",
              "width": 0.5
             },
             "pattern": {
              "fillmode": "overlay",
              "size": 10,
              "solidity": 0.2
             }
            },
            "type": "bar"
           }
          ],
          "barpolar": [
           {
            "marker": {
             "line": {
              "color": "#E5ECF6",
              "width": 0.5
             },
             "pattern": {
              "fillmode": "overlay",
              "size": 10,
              "solidity": 0.2
             }
            },
            "type": "barpolar"
           }
          ],
          "carpet": [
           {
            "aaxis": {
             "endlinecolor": "#2a3f5f",
             "gridcolor": "white",
             "linecolor": "white",
             "minorgridcolor": "white",
             "startlinecolor": "#2a3f5f"
            },
            "baxis": {
             "endlinecolor": "#2a3f5f",
             "gridcolor": "white",
             "linecolor": "white",
             "minorgridcolor": "white",
             "startlinecolor": "#2a3f5f"
            },
            "type": "carpet"
           }
          ],
          "choropleth": [
           {
            "colorbar": {
             "outlinewidth": 0,
             "ticks": ""
            },
            "type": "choropleth"
           }
          ],
          "contour": [
           {
            "colorbar": {
             "outlinewidth": 0,
             "ticks": ""
            },
            "colorscale": [
             [
              0,
              "#0d0887"
             ],
             [
              0.1111111111111111,
              "#46039f"
             ],
             [
              0.2222222222222222,
              "#7201a8"
             ],
             [
              0.3333333333333333,
              "#9c179e"
             ],
             [
              0.4444444444444444,
              "#bd3786"
             ],
             [
              0.5555555555555556,
              "#d8576b"
             ],
             [
              0.6666666666666666,
              "#ed7953"
             ],
             [
              0.7777777777777778,
              "#fb9f3a"
             ],
             [
              0.8888888888888888,
              "#fdca26"
             ],
             [
              1,
              "#f0f921"
             ]
            ],
            "type": "contour"
           }
          ],
          "contourcarpet": [
           {
            "colorbar": {
             "outlinewidth": 0,
             "ticks": ""
            },
            "type": "contourcarpet"
           }
          ],
          "heatmap": [
           {
            "colorbar": {
             "outlinewidth": 0,
             "ticks": ""
            },
            "colorscale": [
             [
              0,
              "#0d0887"
             ],
             [
              0.1111111111111111,
              "#46039f"
             ],
             [
              0.2222222222222222,
              "#7201a8"
             ],
             [
              0.3333333333333333,
              "#9c179e"
             ],
             [
              0.4444444444444444,
              "#bd3786"
             ],
             [
              0.5555555555555556,
              "#d8576b"
             ],
             [
              0.6666666666666666,
              "#ed7953"
             ],
             [
              0.7777777777777778,
              "#fb9f3a"
             ],
             [
              0.8888888888888888,
              "#fdca26"
             ],
             [
              1,
              "#f0f921"
             ]
            ],
            "type": "heatmap"
           }
          ],
          "heatmapgl": [
           {
            "colorbar": {
             "outlinewidth": 0,
             "ticks": ""
            },
            "colorscale": [
             [
              0,
              "#0d0887"
             ],
             [
              0.1111111111111111,
              "#46039f"
             ],
             [
              0.2222222222222222,
              "#7201a8"
             ],
             [
              0.3333333333333333,
              "#9c179e"
             ],
             [
              0.4444444444444444,
              "#bd3786"
             ],
             [
              0.5555555555555556,
              "#d8576b"
             ],
             [
              0.6666666666666666,
              "#ed7953"
             ],
             [
              0.7777777777777778,
              "#fb9f3a"
             ],
             [
              0.8888888888888888,
              "#fdca26"
             ],
             [
              1,
              "#f0f921"
             ]
            ],
            "type": "heatmapgl"
           }
          ],
          "histogram": [
           {
            "marker": {
             "pattern": {
              "fillmode": "overlay",
              "size": 10,
              "solidity": 0.2
             }
            },
            "type": "histogram"
           }
          ],
          "histogram2d": [
           {
            "colorbar": {
             "outlinewidth": 0,
             "ticks": ""
            },
            "colorscale": [
             [
              0,
              "#0d0887"
             ],
             [
              0.1111111111111111,
              "#46039f"
             ],
             [
              0.2222222222222222,
              "#7201a8"
             ],
             [
              0.3333333333333333,
              "#9c179e"
             ],
             [
              0.4444444444444444,
              "#bd3786"
             ],
             [
              0.5555555555555556,
              "#d8576b"
             ],
             [
              0.6666666666666666,
              "#ed7953"
             ],
             [
              0.7777777777777778,
              "#fb9f3a"
             ],
             [
              0.8888888888888888,
              "#fdca26"
             ],
             [
              1,
              "#f0f921"
             ]
            ],
            "type": "histogram2d"
           }
          ],
          "histogram2dcontour": [
           {
            "colorbar": {
             "outlinewidth": 0,
             "ticks": ""
            },
            "colorscale": [
             [
              0,
              "#0d0887"
             ],
             [
              0.1111111111111111,
              "#46039f"
             ],
             [
              0.2222222222222222,
              "#7201a8"
             ],
             [
              0.3333333333333333,
              "#9c179e"
             ],
             [
              0.4444444444444444,
              "#bd3786"
             ],
             [
              0.5555555555555556,
              "#d8576b"
             ],
             [
              0.6666666666666666,
              "#ed7953"
             ],
             [
              0.7777777777777778,
              "#fb9f3a"
             ],
             [
              0.8888888888888888,
              "#fdca26"
             ],
             [
              1,
              "#f0f921"
             ]
            ],
            "type": "histogram2dcontour"
           }
          ],
          "mesh3d": [
           {
            "colorbar": {
             "outlinewidth": 0,
             "ticks": ""
            },
            "type": "mesh3d"
           }
          ],
          "parcoords": [
           {
            "line": {
             "colorbar": {
              "outlinewidth": 0,
              "ticks": ""
             }
            },
            "type": "parcoords"
           }
          ],
          "pie": [
           {
            "automargin": true,
            "type": "pie"
           }
          ],
          "scatter": [
           {
            "fillpattern": {
             "fillmode": "overlay",
             "size": 10,
             "solidity": 0.2
            },
            "type": "scatter"
           }
          ],
          "scatter3d": [
           {
            "line": {
             "colorbar": {
              "outlinewidth": 0,
              "ticks": ""
             }
            },
            "marker": {
             "colorbar": {
              "outlinewidth": 0,
              "ticks": ""
             }
            },
            "type": "scatter3d"
           }
          ],
          "scattercarpet": [
           {
            "marker": {
             "colorbar": {
              "outlinewidth": 0,
              "ticks": ""
             }
            },
            "type": "scattercarpet"
           }
          ],
          "scattergeo": [
           {
            "marker": {
             "colorbar": {
              "outlinewidth": 0,
              "ticks": ""
             }
            },
            "type": "scattergeo"
           }
          ],
          "scattergl": [
           {
            "marker": {
             "colorbar": {
              "outlinewidth": 0,
              "ticks": ""
             }
            },
            "type": "scattergl"
           }
          ],
          "scattermapbox": [
           {
            "marker": {
             "colorbar": {
              "outlinewidth": 0,
              "ticks": ""
             }
            },
            "type": "scattermapbox"
           }
          ],
          "scatterpolar": [
           {
            "marker": {
             "colorbar": {
              "outlinewidth": 0,
              "ticks": ""
             }
            },
            "type": "scatterpolar"
           }
          ],
          "scatterpolargl": [
           {
            "marker": {
             "colorbar": {
              "outlinewidth": 0,
              "ticks": ""
             }
            },
            "type": "scatterpolargl"
           }
          ],
          "scatterternary": [
           {
            "marker": {
             "colorbar": {
              "outlinewidth": 0,
              "ticks": ""
             }
            },
            "type": "scatterternary"
           }
          ],
          "surface": [
           {
            "colorbar": {
             "outlinewidth": 0,
             "ticks": ""
            },
            "colorscale": [
             [
              0,
              "#0d0887"
             ],
             [
              0.1111111111111111,
              "#46039f"
             ],
             [
              0.2222222222222222,
              "#7201a8"
             ],
             [
              0.3333333333333333,
              "#9c179e"
             ],
             [
              0.4444444444444444,
              "#bd3786"
             ],
             [
              0.5555555555555556,
              "#d8576b"
             ],
             [
              0.6666666666666666,
              "#ed7953"
             ],
             [
              0.7777777777777778,
              "#fb9f3a"
             ],
             [
              0.8888888888888888,
              "#fdca26"
             ],
             [
              1,
              "#f0f921"
             ]
            ],
            "type": "surface"
           }
          ],
          "table": [
           {
            "cells": {
             "fill": {
              "color": "#EBF0F8"
             },
             "line": {
              "color": "white"
             }
            },
            "header": {
             "fill": {
              "color": "#C8D4E3"
             },
             "line": {
              "color": "white"
             }
            },
            "type": "table"
           }
          ]
         },
         "layout": {
          "annotationdefaults": {
           "arrowcolor": "#2a3f5f",
           "arrowhead": 0,
           "arrowwidth": 1
          },
          "autotypenumbers": "strict",
          "coloraxis": {
           "colorbar": {
            "outlinewidth": 0,
            "ticks": ""
           }
          },
          "colorscale": {
           "diverging": [
            [
             0,
             "#8e0152"
            ],
            [
             0.1,
             "#c51b7d"
            ],
            [
             0.2,
             "#de77ae"
            ],
            [
             0.3,
             "#f1b6da"
            ],
            [
             0.4,
             "#fde0ef"
            ],
            [
             0.5,
             "#f7f7f7"
            ],
            [
             0.6,
             "#e6f5d0"
            ],
            [
             0.7,
             "#b8e186"
            ],
            [
             0.8,
             "#7fbc41"
            ],
            [
             0.9,
             "#4d9221"
            ],
            [
             1,
             "#276419"
            ]
           ],
           "sequential": [
            [
             0,
             "#0d0887"
            ],
            [
             0.1111111111111111,
             "#46039f"
            ],
            [
             0.2222222222222222,
             "#7201a8"
            ],
            [
             0.3333333333333333,
             "#9c179e"
            ],
            [
             0.4444444444444444,
             "#bd3786"
            ],
            [
             0.5555555555555556,
             "#d8576b"
            ],
            [
             0.6666666666666666,
             "#ed7953"
            ],
            [
             0.7777777777777778,
             "#fb9f3a"
            ],
            [
             0.8888888888888888,
             "#fdca26"
            ],
            [
             1,
             "#f0f921"
            ]
           ],
           "sequentialminus": [
            [
             0,
             "#0d0887"
            ],
            [
             0.1111111111111111,
             "#46039f"
            ],
            [
             0.2222222222222222,
             "#7201a8"
            ],
            [
             0.3333333333333333,
             "#9c179e"
            ],
            [
             0.4444444444444444,
             "#bd3786"
            ],
            [
             0.5555555555555556,
             "#d8576b"
            ],
            [
             0.6666666666666666,
             "#ed7953"
            ],
            [
             0.7777777777777778,
             "#fb9f3a"
            ],
            [
             0.8888888888888888,
             "#fdca26"
            ],
            [
             1,
             "#f0f921"
            ]
           ]
          },
          "colorway": [
           "#636efa",
           "#EF553B",
           "#00cc96",
           "#ab63fa",
           "#FFA15A",
           "#19d3f3",
           "#FF6692",
           "#B6E880",
           "#FF97FF",
           "#FECB52"
          ],
          "font": {
           "color": "#2a3f5f"
          },
          "geo": {
           "bgcolor": "white",
           "lakecolor": "white",
           "landcolor": "#E5ECF6",
           "showlakes": true,
           "showland": true,
           "subunitcolor": "white"
          },
          "hoverlabel": {
           "align": "left"
          },
          "hovermode": "closest",
          "mapbox": {
           "style": "light"
          },
          "paper_bgcolor": "white",
          "plot_bgcolor": "#E5ECF6",
          "polar": {
           "angularaxis": {
            "gridcolor": "white",
            "linecolor": "white",
            "ticks": ""
           },
           "bgcolor": "#E5ECF6",
           "radialaxis": {
            "gridcolor": "white",
            "linecolor": "white",
            "ticks": ""
           }
          },
          "scene": {
           "xaxis": {
            "backgroundcolor": "#E5ECF6",
            "gridcolor": "white",
            "gridwidth": 2,
            "linecolor": "white",
            "showbackground": true,
            "ticks": "",
            "zerolinecolor": "white"
           },
           "yaxis": {
            "backgroundcolor": "#E5ECF6",
            "gridcolor": "white",
            "gridwidth": 2,
            "linecolor": "white",
            "showbackground": true,
            "ticks": "",
            "zerolinecolor": "white"
           },
           "zaxis": {
            "backgroundcolor": "#E5ECF6",
            "gridcolor": "white",
            "gridwidth": 2,
            "linecolor": "white",
            "showbackground": true,
            "ticks": "",
            "zerolinecolor": "white"
           }
          },
          "shapedefaults": {
           "line": {
            "color": "#2a3f5f"
           }
          },
          "ternary": {
           "aaxis": {
            "gridcolor": "white",
            "linecolor": "white",
            "ticks": ""
           },
           "baxis": {
            "gridcolor": "white",
            "linecolor": "white",
            "ticks": ""
           },
           "bgcolor": "#E5ECF6",
           "caxis": {
            "gridcolor": "white",
            "linecolor": "white",
            "ticks": ""
           }
          },
          "title": {
           "x": 0.05
          },
          "xaxis": {
           "automargin": true,
           "gridcolor": "white",
           "linecolor": "white",
           "ticks": "",
           "title": {
            "standoff": 15
           },
           "zerolinecolor": "white",
           "zerolinewidth": 2
          },
          "yaxis": {
           "automargin": true,
           "gridcolor": "white",
           "linecolor": "white",
           "ticks": "",
           "title": {
            "standoff": 15
           },
           "zerolinecolor": "white",
           "zerolinewidth": 2
          }
         }
        },
        "title": {
         "text": "Optimization History Plot"
        },
        "xaxis": {
         "title": {
          "text": "Trial"
         }
        },
        "yaxis": {
         "title": {
          "text": "Objective Value"
         }
        }
       }
      },
      "text/html": [
       "<div>                            <div id=\"6fb53782-92ca-4d5f-9dac-aece34758060\" class=\"plotly-graph-div\" style=\"height:525px; width:100%;\"></div>            <script type=\"text/javascript\">                require([\"plotly\"], function(Plotly) {                    window.PLOTLYENV=window.PLOTLYENV || {};                                    if (document.getElementById(\"6fb53782-92ca-4d5f-9dac-aece34758060\")) {                    Plotly.newPlot(                        \"6fb53782-92ca-4d5f-9dac-aece34758060\",                        [{\"mode\":\"markers\",\"name\":\"Objective Value\",\"x\":[0,1,2,3,4,5,6,7,8,9,10,11,12,13,14,15,16,17,18,19],\"y\":[-0.0030047524128885227,-0.0011151366727039365,-0.0011183030187621732,-0.003310046395894873,-0.0029820997288885947,-0.0029908165237852724,-0.0007903864769107944,-0.0020894803694897213,-0.002099829560876618,-0.0023948414146010536,-0.0011333160930946998,-0.0011469450387888963,-0.19874149100988375,-0.0011337383976232605,-0.001451939801639672,-0.0015284909968158145,-0.0007941376928129684,-0.0017465827200978917,-0.0020592763158796615,-0.0017831020045126632],\"type\":\"scatter\"},{\"mode\":\"lines\",\"name\":\"Best Value\",\"x\":[0,1,2,3,4,5,6,7,8,9,10,11,12,13,14,15,16,17,18,19],\"y\":[-0.0030047524128885227,-0.0011151366727039365,-0.0011151366727039365,-0.0011151366727039365,-0.0011151366727039365,-0.0011151366727039365,-0.0007903864769107944,-0.0007903864769107944,-0.0007903864769107944,-0.0007903864769107944,-0.0007903864769107944,-0.0007903864769107944,-0.0007903864769107944,-0.0007903864769107944,-0.0007903864769107944,-0.0007903864769107944,-0.0007903864769107944,-0.0007903864769107944,-0.0007903864769107944,-0.0007903864769107944],\"type\":\"scatter\"},{\"marker\":{\"color\":\"#cccccc\"},\"mode\":\"markers\",\"name\":\"Infeasible Trial\",\"showlegend\":false,\"x\":[],\"y\":[],\"type\":\"scatter\"}],                        {\"title\":{\"text\":\"Optimization History Plot\"},\"xaxis\":{\"title\":{\"text\":\"Trial\"}},\"yaxis\":{\"title\":{\"text\":\"Objective Value\"}},\"template\":{\"data\":{\"histogram2dcontour\":[{\"type\":\"histogram2dcontour\",\"colorbar\":{\"outlinewidth\":0,\"ticks\":\"\"},\"colorscale\":[[0.0,\"#0d0887\"],[0.1111111111111111,\"#46039f\"],[0.2222222222222222,\"#7201a8\"],[0.3333333333333333,\"#9c179e\"],[0.4444444444444444,\"#bd3786\"],[0.5555555555555556,\"#d8576b\"],[0.6666666666666666,\"#ed7953\"],[0.7777777777777778,\"#fb9f3a\"],[0.8888888888888888,\"#fdca26\"],[1.0,\"#f0f921\"]]}],\"choropleth\":[{\"type\":\"choropleth\",\"colorbar\":{\"outlinewidth\":0,\"ticks\":\"\"}}],\"histogram2d\":[{\"type\":\"histogram2d\",\"colorbar\":{\"outlinewidth\":0,\"ticks\":\"\"},\"colorscale\":[[0.0,\"#0d0887\"],[0.1111111111111111,\"#46039f\"],[0.2222222222222222,\"#7201a8\"],[0.3333333333333333,\"#9c179e\"],[0.4444444444444444,\"#bd3786\"],[0.5555555555555556,\"#d8576b\"],[0.6666666666666666,\"#ed7953\"],[0.7777777777777778,\"#fb9f3a\"],[0.8888888888888888,\"#fdca26\"],[1.0,\"#f0f921\"]]}],\"heatmap\":[{\"type\":\"heatmap\",\"colorbar\":{\"outlinewidth\":0,\"ticks\":\"\"},\"colorscale\":[[0.0,\"#0d0887\"],[0.1111111111111111,\"#46039f\"],[0.2222222222222222,\"#7201a8\"],[0.3333333333333333,\"#9c179e\"],[0.4444444444444444,\"#bd3786\"],[0.5555555555555556,\"#d8576b\"],[0.6666666666666666,\"#ed7953\"],[0.7777777777777778,\"#fb9f3a\"],[0.8888888888888888,\"#fdca26\"],[1.0,\"#f0f921\"]]}],\"heatmapgl\":[{\"type\":\"heatmapgl\",\"colorbar\":{\"outlinewidth\":0,\"ticks\":\"\"},\"colorscale\":[[0.0,\"#0d0887\"],[0.1111111111111111,\"#46039f\"],[0.2222222222222222,\"#7201a8\"],[0.3333333333333333,\"#9c179e\"],[0.4444444444444444,\"#bd3786\"],[0.5555555555555556,\"#d8576b\"],[0.6666666666666666,\"#ed7953\"],[0.7777777777777778,\"#fb9f3a\"],[0.8888888888888888,\"#fdca26\"],[1.0,\"#f0f921\"]]}],\"contourcarpet\":[{\"type\":\"contourcarpet\",\"colorbar\":{\"outlinewidth\":0,\"ticks\":\"\"}}],\"contour\":[{\"type\":\"contour\",\"colorbar\":{\"outlinewidth\":0,\"ticks\":\"\"},\"colorscale\":[[0.0,\"#0d0887\"],[0.1111111111111111,\"#46039f\"],[0.2222222222222222,\"#7201a8\"],[0.3333333333333333,\"#9c179e\"],[0.4444444444444444,\"#bd3786\"],[0.5555555555555556,\"#d8576b\"],[0.6666666666666666,\"#ed7953\"],[0.7777777777777778,\"#fb9f3a\"],[0.8888888888888888,\"#fdca26\"],[1.0,\"#f0f921\"]]}],\"surface\":[{\"type\":\"surface\",\"colorbar\":{\"outlinewidth\":0,\"ticks\":\"\"},\"colorscale\":[[0.0,\"#0d0887\"],[0.1111111111111111,\"#46039f\"],[0.2222222222222222,\"#7201a8\"],[0.3333333333333333,\"#9c179e\"],[0.4444444444444444,\"#bd3786\"],[0.5555555555555556,\"#d8576b\"],[0.6666666666666666,\"#ed7953\"],[0.7777777777777778,\"#fb9f3a\"],[0.8888888888888888,\"#fdca26\"],[1.0,\"#f0f921\"]]}],\"mesh3d\":[{\"type\":\"mesh3d\",\"colorbar\":{\"outlinewidth\":0,\"ticks\":\"\"}}],\"scatter\":[{\"fillpattern\":{\"fillmode\":\"overlay\",\"size\":10,\"solidity\":0.2},\"type\":\"scatter\"}],\"parcoords\":[{\"type\":\"parcoords\",\"line\":{\"colorbar\":{\"outlinewidth\":0,\"ticks\":\"\"}}}],\"scatterpolargl\":[{\"type\":\"scatterpolargl\",\"marker\":{\"colorbar\":{\"outlinewidth\":0,\"ticks\":\"\"}}}],\"bar\":[{\"error_x\":{\"color\":\"#2a3f5f\"},\"error_y\":{\"color\":\"#2a3f5f\"},\"marker\":{\"line\":{\"color\":\"#E5ECF6\",\"width\":0.5},\"pattern\":{\"fillmode\":\"overlay\",\"size\":10,\"solidity\":0.2}},\"type\":\"bar\"}],\"scattergeo\":[{\"type\":\"scattergeo\",\"marker\":{\"colorbar\":{\"outlinewidth\":0,\"ticks\":\"\"}}}],\"scatterpolar\":[{\"type\":\"scatterpolar\",\"marker\":{\"colorbar\":{\"outlinewidth\":0,\"ticks\":\"\"}}}],\"histogram\":[{\"marker\":{\"pattern\":{\"fillmode\":\"overlay\",\"size\":10,\"solidity\":0.2}},\"type\":\"histogram\"}],\"scattergl\":[{\"type\":\"scattergl\",\"marker\":{\"colorbar\":{\"outlinewidth\":0,\"ticks\":\"\"}}}],\"scatter3d\":[{\"type\":\"scatter3d\",\"line\":{\"colorbar\":{\"outlinewidth\":0,\"ticks\":\"\"}},\"marker\":{\"colorbar\":{\"outlinewidth\":0,\"ticks\":\"\"}}}],\"scattermapbox\":[{\"type\":\"scattermapbox\",\"marker\":{\"colorbar\":{\"outlinewidth\":0,\"ticks\":\"\"}}}],\"scatterternary\":[{\"type\":\"scatterternary\",\"marker\":{\"colorbar\":{\"outlinewidth\":0,\"ticks\":\"\"}}}],\"scattercarpet\":[{\"type\":\"scattercarpet\",\"marker\":{\"colorbar\":{\"outlinewidth\":0,\"ticks\":\"\"}}}],\"carpet\":[{\"aaxis\":{\"endlinecolor\":\"#2a3f5f\",\"gridcolor\":\"white\",\"linecolor\":\"white\",\"minorgridcolor\":\"white\",\"startlinecolor\":\"#2a3f5f\"},\"baxis\":{\"endlinecolor\":\"#2a3f5f\",\"gridcolor\":\"white\",\"linecolor\":\"white\",\"minorgridcolor\":\"white\",\"startlinecolor\":\"#2a3f5f\"},\"type\":\"carpet\"}],\"table\":[{\"cells\":{\"fill\":{\"color\":\"#EBF0F8\"},\"line\":{\"color\":\"white\"}},\"header\":{\"fill\":{\"color\":\"#C8D4E3\"},\"line\":{\"color\":\"white\"}},\"type\":\"table\"}],\"barpolar\":[{\"marker\":{\"line\":{\"color\":\"#E5ECF6\",\"width\":0.5},\"pattern\":{\"fillmode\":\"overlay\",\"size\":10,\"solidity\":0.2}},\"type\":\"barpolar\"}],\"pie\":[{\"automargin\":true,\"type\":\"pie\"}]},\"layout\":{\"autotypenumbers\":\"strict\",\"colorway\":[\"#636efa\",\"#EF553B\",\"#00cc96\",\"#ab63fa\",\"#FFA15A\",\"#19d3f3\",\"#FF6692\",\"#B6E880\",\"#FF97FF\",\"#FECB52\"],\"font\":{\"color\":\"#2a3f5f\"},\"hovermode\":\"closest\",\"hoverlabel\":{\"align\":\"left\"},\"paper_bgcolor\":\"white\",\"plot_bgcolor\":\"#E5ECF6\",\"polar\":{\"bgcolor\":\"#E5ECF6\",\"angularaxis\":{\"gridcolor\":\"white\",\"linecolor\":\"white\",\"ticks\":\"\"},\"radialaxis\":{\"gridcolor\":\"white\",\"linecolor\":\"white\",\"ticks\":\"\"}},\"ternary\":{\"bgcolor\":\"#E5ECF6\",\"aaxis\":{\"gridcolor\":\"white\",\"linecolor\":\"white\",\"ticks\":\"\"},\"baxis\":{\"gridcolor\":\"white\",\"linecolor\":\"white\",\"ticks\":\"\"},\"caxis\":{\"gridcolor\":\"white\",\"linecolor\":\"white\",\"ticks\":\"\"}},\"coloraxis\":{\"colorbar\":{\"outlinewidth\":0,\"ticks\":\"\"}},\"colorscale\":{\"sequential\":[[0.0,\"#0d0887\"],[0.1111111111111111,\"#46039f\"],[0.2222222222222222,\"#7201a8\"],[0.3333333333333333,\"#9c179e\"],[0.4444444444444444,\"#bd3786\"],[0.5555555555555556,\"#d8576b\"],[0.6666666666666666,\"#ed7953\"],[0.7777777777777778,\"#fb9f3a\"],[0.8888888888888888,\"#fdca26\"],[1.0,\"#f0f921\"]],\"sequentialminus\":[[0.0,\"#0d0887\"],[0.1111111111111111,\"#46039f\"],[0.2222222222222222,\"#7201a8\"],[0.3333333333333333,\"#9c179e\"],[0.4444444444444444,\"#bd3786\"],[0.5555555555555556,\"#d8576b\"],[0.6666666666666666,\"#ed7953\"],[0.7777777777777778,\"#fb9f3a\"],[0.8888888888888888,\"#fdca26\"],[1.0,\"#f0f921\"]],\"diverging\":[[0,\"#8e0152\"],[0.1,\"#c51b7d\"],[0.2,\"#de77ae\"],[0.3,\"#f1b6da\"],[0.4,\"#fde0ef\"],[0.5,\"#f7f7f7\"],[0.6,\"#e6f5d0\"],[0.7,\"#b8e186\"],[0.8,\"#7fbc41\"],[0.9,\"#4d9221\"],[1,\"#276419\"]]},\"xaxis\":{\"gridcolor\":\"white\",\"linecolor\":\"white\",\"ticks\":\"\",\"title\":{\"standoff\":15},\"zerolinecolor\":\"white\",\"automargin\":true,\"zerolinewidth\":2},\"yaxis\":{\"gridcolor\":\"white\",\"linecolor\":\"white\",\"ticks\":\"\",\"title\":{\"standoff\":15},\"zerolinecolor\":\"white\",\"automargin\":true,\"zerolinewidth\":2},\"scene\":{\"xaxis\":{\"backgroundcolor\":\"#E5ECF6\",\"gridcolor\":\"white\",\"linecolor\":\"white\",\"showbackground\":true,\"ticks\":\"\",\"zerolinecolor\":\"white\",\"gridwidth\":2},\"yaxis\":{\"backgroundcolor\":\"#E5ECF6\",\"gridcolor\":\"white\",\"linecolor\":\"white\",\"showbackground\":true,\"ticks\":\"\",\"zerolinecolor\":\"white\",\"gridwidth\":2},\"zaxis\":{\"backgroundcolor\":\"#E5ECF6\",\"gridcolor\":\"white\",\"linecolor\":\"white\",\"showbackground\":true,\"ticks\":\"\",\"zerolinecolor\":\"white\",\"gridwidth\":2}},\"shapedefaults\":{\"line\":{\"color\":\"#2a3f5f\"}},\"annotationdefaults\":{\"arrowcolor\":\"#2a3f5f\",\"arrowhead\":0,\"arrowwidth\":1},\"geo\":{\"bgcolor\":\"white\",\"landcolor\":\"#E5ECF6\",\"subunitcolor\":\"white\",\"showland\":true,\"showlakes\":true,\"lakecolor\":\"white\"},\"title\":{\"x\":0.05},\"mapbox\":{\"style\":\"light\"}}}},                        {\"responsive\": true}                    ).then(function(){\n",
       "                            \n",
       "var gd = document.getElementById('6fb53782-92ca-4d5f-9dac-aece34758060');\n",
       "var x = new MutationObserver(function (mutations, observer) {{\n",
       "        var display = window.getComputedStyle(gd).display;\n",
       "        if (!display || display === 'none') {{\n",
       "            console.log([gd, 'removed!']);\n",
       "            Plotly.purge(gd);\n",
       "            observer.disconnect();\n",
       "        }}\n",
       "}});\n",
       "\n",
       "// Listen for the removal of the full notebook cells\n",
       "var notebookContainer = gd.closest('#notebook-container');\n",
       "if (notebookContainer) {{\n",
       "    x.observe(notebookContainer, {childList: true});\n",
       "}}\n",
       "\n",
       "// Listen for the clearing of the current output cell\n",
       "var outputEl = gd.closest('.output');\n",
       "if (outputEl) {{\n",
       "    x.observe(outputEl, {childList: true});\n",
       "}}\n",
       "\n",
       "                        })                };                });            </script>        </div>"
      ]
     },
     "metadata": {},
     "output_type": "display_data"
    }
   ],
   "source": [
    "study = joblib.load(os.getcwd()+'/'+\"optuna_rf_study.pkl\")\n",
    "print(f\"Best trial: {study.best_trial.params}\")\n",
    "optuna.visualization.plot_param_importances(study)\n",
    "optuna.visualization.plot_optimization_history(study)"
   ]
  },
  {
   "cell_type": "code",
   "execution_count": null,
   "id": "4a787003b76dd665",
   "metadata": {
    "collapsed": false
   },
   "outputs": [],
   "source": []
  }
 ],
 "metadata": {
  "kernelspec": {
   "display_name": "Python 3",
   "language": "python",
   "name": "python3"
  },
  "language_info": {
   "codemirror_mode": {
    "name": "ipython",
    "version": 3
   },
   "file_extension": ".py",
   "mimetype": "text/x-python",
   "name": "python",
   "nbconvert_exporter": "python",
   "pygments_lexer": "ipython3",
   "version": "3.11.5"
  }
 },
 "nbformat": 4,
 "nbformat_minor": 5
}
