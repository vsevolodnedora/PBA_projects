{
 "cells": [
  {
   "cell_type": "code",
   "execution_count": 2,
   "id": "initial_id",
   "metadata": {
    "collapsed": true,
    "ExecuteTime": {
     "end_time": "2024-02-16T15:37:41.803122Z",
     "start_time": "2024-02-16T15:37:41.801045Z"
    }
   },
   "outputs": [],
   "source": []
  },
  {
   "cell_type": "code",
   "outputs": [],
   "source": [
    "import numpy as np\n",
    "import h5py\n",
    "import pandas as pd\n",
    "from glob import glob\n",
    "import os\n",
    "import re\n",
    "import seaborn as sns \n",
    "import matplotlib.pyplot as plt \n",
    "import matplotlib.ticker as mticker\n",
    "from matplotlib.colors import LogNorm, Normalize\n",
    "# settings\n",
    "plt.style.use(\"fivethirtyeight\")\n",
    "\n",
    "# Supress runtime warning\n",
    "import warnings\n",
    "warnings.filterwarnings(\"ignore\")\n",
    "\n",
    "import PyBlastAfterglowMag as PBA\n",
    "from knafg.settings import *\n",
    "\n",
    "df = SIMS[SIMS[\"given_time\"] == \"new\"]"
   ],
   "metadata": {
    "collapsed": false,
    "ExecuteTime": {
     "end_time": "2024-02-16T15:44:18.517087Z",
     "start_time": "2024-02-16T15:44:18.512774Z"
    }
   },
   "id": "a15bedd13dff803d",
   "execution_count": 7
  },
  {
   "cell_type": "code",
   "outputs": [],
   "source": [
    "root_dir = \"/media/vsevolod/T7/work/prj_kn_afterglow/\"\n",
    "dfs = {}\n",
    "def load_simultion_data():\n",
    "    for idx, sim_dic in enumerate(df.iterrows()):\n",
    "        sim_dic = sim_dic[1]\n",
    "        collated_file_path = root_dir + sim_dic[\"name\"] + '/' + \"collated.csv\"\n",
    "        assert os.path.isfile(collated_file_path), \"Collated file not found\"\n",
    "        dfs[sim_dic[\"name\"]] = pd.read_csv(collated_file_path, index_col=0)\n",
    "        print(f\"File loaded: {collated_file_path} { print(dfs[sim_dic['name']].info(memory_usage='deep')) }\")"
   ],
   "metadata": {
    "collapsed": false,
    "ExecuteTime": {
     "end_time": "2024-02-16T15:52:00.479681Z",
     "start_time": "2024-02-16T15:52:00.473775Z"
    }
   },
   "id": "8da7f8954ec188fa",
   "execution_count": 19
  },
  {
   "cell_type": "code",
   "outputs": [
    {
     "name": "stdout",
     "output_type": "stream",
     "text": [
      "<class 'pandas.core.frame.DataFrame'>\n",
      "Index: 6480000 entries, 0 to 6479999\n",
      "Data columns (total 10 columns):\n",
      " #   Column     Dtype  \n",
      "---  ------     -----  \n",
      " 0   eps_e      float64\n",
      " 1   eps_b      float64\n",
      " 2   eps_t      float64\n",
      " 3   p          float64\n",
      " 4   theta_obs  float64\n",
      " 5   n_ism      float64\n",
      " 6   freq       float64\n",
      " 7   time       float64\n",
      " 8   flux       float64\n",
      " 9   text       int64  \n",
      "dtypes: float64(9), int64(1)\n",
      "memory usage: 543.8 MB\n",
      "None\n",
      "File loaded: /media/vsevolod/T7/work/prj_kn_afterglow/SFHoTim276_135_135_45km_150mstg_B0_FUKA/collated.csv None\n",
      "<class 'pandas.core.frame.DataFrame'>\n",
      "Index: 38880000 entries, 0 to 38879999\n",
      "Data columns (total 10 columns):\n",
      " #   Column     Dtype  \n",
      "---  ------     -----  \n",
      " 0   eps_e      float64\n",
      " 1   eps_b      float64\n",
      " 2   eps_t      float64\n",
      " 3   p          float64\n",
      " 4   theta_obs  float64\n",
      " 5   n_ism      float64\n",
      " 6   freq       float64\n",
      " 7   time       float64\n",
      " 8   flux       float64\n",
      " 9   text       int64  \n",
      "dtypes: float64(9), int64(1)\n",
      "memory usage: 3.2 GB\n",
      "None\n",
      "File loaded: /media/vsevolod/T7/work/prj_kn_afterglow/SFHoTim276_13_14_0025_150mstg_B0_HLLC/collated.csv None\n",
      "<class 'pandas.core.frame.DataFrame'>\n",
      "Index: 6480000 entries, 0 to 6479999\n",
      "Data columns (total 10 columns):\n",
      " #   Column     Dtype  \n",
      "---  ------     -----  \n",
      " 0   eps_e      float64\n",
      " 1   eps_b      float64\n",
      " 2   eps_t      float64\n",
      " 3   p          float64\n",
      " 4   theta_obs  float64\n",
      " 5   n_ism      float64\n",
      " 6   freq       float64\n",
      " 7   time       float64\n",
      " 8   flux       float64\n",
      " 9   text       int64  \n",
      "dtypes: float64(9), int64(1)\n",
      "memory usage: 543.8 MB\n",
      "None\n",
      "File loaded: /media/vsevolod/T7/work/prj_kn_afterglow/SFHoTim276_12_15_0025_150mstg_B15_HLLD_CT_GS_onFugaku/collated.csv None\n",
      "<class 'pandas.core.frame.DataFrame'>\n",
      "Index: 5529600 entries, 0 to 5529599\n",
      "Data columns (total 10 columns):\n",
      " #   Column     Dtype  \n",
      "---  ------     -----  \n",
      " 0   eps_e      float64\n",
      " 1   eps_b      float64\n",
      " 2   eps_t      float64\n",
      " 3   p          float64\n",
      " 4   theta_obs  float64\n",
      " 5   n_ism      float64\n",
      " 6   freq       float64\n",
      " 7   time       float64\n",
      " 8   flux       float64\n",
      " 9   text       int64  \n",
      "dtypes: float64(9), int64(1)\n",
      "memory usage: 464.1 MB\n",
      "None\n",
      "File loaded: /media/vsevolod/T7/work/prj_kn_afterglow/BHBLpTim326_135_135_45km_150mstg_B0_HLLC/collated.csv None\n",
      "<class 'pandas.core.frame.DataFrame'>\n",
      "Index: 12960000 entries, 0 to 12959999\n",
      "Data columns (total 10 columns):\n",
      " #   Column     Dtype  \n",
      "---  ------     -----  \n",
      " 0   eps_e      float64\n",
      " 1   eps_b      float64\n",
      " 2   eps_t      float64\n",
      " 3   p          float64\n",
      " 4   theta_obs  float64\n",
      " 5   n_ism      float64\n",
      " 6   freq       float64\n",
      " 7   time       float64\n",
      " 8   flux       float64\n",
      " 9   text       int64  \n",
      "dtypes: float64(9), int64(1)\n",
      "memory usage: 1.1 GB\n",
      "None\n",
      "File loaded: /media/vsevolod/T7/work/prj_kn_afterglow/DD2Tim326_135_135_0028_12.5mstg_B15.5_HLLD_CT_GS/collated.csv None\n"
     ]
    }
   ],
   "source": [
    "load_simultion_data()"
   ],
   "metadata": {
    "collapsed": false,
    "ExecuteTime": {
     "end_time": "2024-02-16T15:52:35.967206Z",
     "start_time": "2024-02-16T15:52:01.935407Z"
    }
   },
   "id": "8a6747e42495b8c6",
   "execution_count": 20
  },
  {
   "cell_type": "code",
   "outputs": [],
   "source": [
    "def print_avail_extraction_times():\n",
    "    for idx, sim_dic in enumerate(df.iterrows()):\n",
    "        sim_dic = sim_dic[1]\n",
    "        name = sim_dic[\"name\"]\n",
    "        print(f\"{name} : {dfs[name]['text'].unique()}\")"
   ],
   "metadata": {
    "collapsed": false,
    "ExecuteTime": {
     "end_time": "2024-02-16T15:55:36.142075Z",
     "start_time": "2024-02-16T15:55:36.138450Z"
    }
   },
   "id": "2f4cb8cad0ab19de",
   "execution_count": 28
  },
  {
   "cell_type": "code",
   "outputs": [
    {
     "name": "stdout",
     "output_type": "stream",
     "text": [
      "SFHoTim276_135_135_45km_150mstg_B0_FUKA : [32]\n",
      "SFHoTim276_13_14_0025_150mstg_B0_HLLC : [22 28 30 26 20 24]\n",
      "SFHoTim276_12_15_0025_150mstg_B15_HLLD_CT_GS_onFugaku : [28]\n",
      "BHBLpTim326_135_135_45km_150mstg_B0_HLLC : [30]\n",
      "DD2Tim326_135_135_0028_12.5mstg_B15.5_HLLD_CT_GS : [22 18]\n"
     ]
    }
   ],
   "source": [
    "print_avail_extraction_times()"
   ],
   "metadata": {
    "collapsed": false,
    "ExecuteTime": {
     "end_time": "2024-02-16T15:55:36.948439Z",
     "start_time": "2024-02-16T15:55:36.729053Z"
    }
   },
   "id": "d2a8a2a433f3dc20",
   "execution_count": 29
  },
  {
   "cell_type": "markdown",
   "source": [
    "# Run setups\n",
    "for each simulation pick up an extraction time and run \n",
    "1. random forest, xbgoost optuna run\n",
    "2. prepare peak time/flux dataframes and run\n",
    " \n",
    "For SFHoTim276_13_14_0025_150mstg_B0_HLLC \n",
    "1. random forest, xbgoost optuna run\n",
    "2. prepare peak time/flux dataframes and run \n",
    "\n",
    "__Collated light curves on enlil__:  \n",
    "`/work/vnedora/prj_kn_afterglow/{SIMULATION}/collated.csv`\n",
    "\n",
    "for each:\n",
    "- create new dir for optuna_{LC/PEAK}_{STAT_MODEL}_{TEXT/NONE}\n",
    "run runs...\n",
    "\n"
   ],
   "metadata": {
    "collapsed": false
   },
   "id": "8eb0ebbb4d78ae83"
  },
  {
   "cell_type": "code",
   "outputs": [],
   "source": [
    "enlil source"
   ],
   "metadata": {
    "collapsed": false
   },
   "id": "3e79f2ba45c15e3"
  },
  {
   "cell_type": "code",
   "outputs": [],
   "source": [],
   "metadata": {
    "collapsed": false
   },
   "id": "89c311dce5c8b8b0"
  },
  {
   "cell_type": "markdown",
   "source": [],
   "metadata": {
    "collapsed": false
   },
   "id": "a6e4f453b26c2e24"
  }
 ],
 "metadata": {
  "kernelspec": {
   "display_name": "Python 3",
   "language": "python",
   "name": "python3"
  },
  "language_info": {
   "codemirror_mode": {
    "name": "ipython",
    "version": 2
   },
   "file_extension": ".py",
   "mimetype": "text/x-python",
   "name": "python",
   "nbconvert_exporter": "python",
   "pygments_lexer": "ipython2",
   "version": "2.7.6"
  }
 },
 "nbformat": 4,
 "nbformat_minor": 5
}
