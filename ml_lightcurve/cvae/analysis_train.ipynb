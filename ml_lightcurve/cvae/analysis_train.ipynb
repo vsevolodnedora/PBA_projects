{
 "cells": [
  {
   "cell_type": "markdown",
   "source": [
    "# Analyze One Trained Model"
   ],
   "metadata": {
    "collapsed": false
   },
   "id": "6d861f0fe739feb8"
  },
  {
   "cell_type": "code",
   "execution_count": 11,
   "id": "initial_id",
   "metadata": {
    "collapsed": true,
    "ExecuteTime": {
     "end_time": "2024-01-22T09:49:01.765866987Z",
     "start_time": "2024-01-22T09:49:01.724905641Z"
    }
   },
   "outputs": [],
   "source": [
    "import pandas as pd\n",
    "import os.path\n",
    "import subprocess\n",
    "import json\n",
    "import os\n",
    "import h5py\n",
    "import numpy as np\n",
    "import tqdm\n",
    "from tqdm import tqdm_notebook\n",
    "import itertools\n",
    "import matplotlib.pyplot as plt\n",
    "from matplotlib.offsetbox import OffsetImage, AnnotationBbox, TextArea\n",
    "from matplotlib.colors import LogNorm, Normalize\n",
    "from mpl_toolkits.axes_grid1 import make_axes_locatable\n",
    "from matplotlib.cm import ScalarMappable\n",
    "from matplotlib import rc\n",
    "rc('text', usetex=True)\n",
    "rc('font', family='serif')\n",
    "import seaborn as sb\n",
    "\n",
    "from analysis import load_model\n"
   ]
  },
  {
   "cell_type": "markdown",
   "source": [
    "# Load trained model"
   ],
   "metadata": {
    "collapsed": false
   },
   "id": "7a053c84fcd4eca"
  },
  {
   "cell_type": "code",
   "execution_count": 2,
   "outputs": [],
   "source": [
    "run = \"test0\"\n",
    "model_dir = os.getcwd()+'/'+f\"models/{run}/\"\n",
    "fig_dir = model_dir+\"figs/\""
   ],
   "metadata": {
    "collapsed": false,
    "ExecuteTime": {
     "end_time": "2024-01-22T09:41:59.685361938Z",
     "start_time": "2024-01-22T09:41:59.683445254Z"
    }
   },
   "id": "5ae41bcde871e8a1"
  },
  {
   "cell_type": "code",
   "execution_count": 3,
   "outputs": [],
   "source": [
    "# load model metadata\n",
    "f = open(f\"{model_dir}model.json\")\n",
    "metadata = json.load(f)\n",
    "model_metada = metadata[\"model\"]"
   ],
   "metadata": {
    "collapsed": false,
    "ExecuteTime": {
     "end_time": "2024-01-22T09:42:00.191021420Z",
     "start_time": "2024-01-22T09:42:00.183889402Z"
    }
   },
   "id": "eb1d26e1c811daa3"
  },
  {
   "cell_type": "code",
   "execution_count": 4,
   "outputs": [],
   "source": [
    "# load on model\n",
    "model, state = load_model(model_dir, model_metada)"
   ],
   "metadata": {
    "collapsed": false,
    "ExecuteTime": {
     "end_time": "2024-01-22T09:42:00.722936115Z",
     "start_time": "2024-01-22T09:42:00.615896128Z"
    }
   },
   "id": "758dbcd76e77236a"
  },
  {
   "cell_type": "code",
   "execution_count": 5,
   "outputs": [
    {
     "name": "stdout",
     "output_type": "stream",
     "text": [
      "dict_keys(['model_state_dict', 'optimizer_state_dict', 'train_losses', 'test_losses', 'epochs', 'last_epoch'])\n"
     ]
    }
   ],
   "source": [
    "print(state.keys())"
   ],
   "metadata": {
    "collapsed": false,
    "ExecuteTime": {
     "end_time": "2024-01-22T09:42:02.687809346Z",
     "start_time": "2024-01-22T09:42:02.683400002Z"
    }
   },
   "id": "f4cd7b062e9faa51"
  },
  {
   "cell_type": "markdown",
   "source": [
    "# Plot training history"
   ],
   "metadata": {
    "collapsed": false
   },
   "id": "f5d6ea58fa5f9def"
  },
  {
   "cell_type": "code",
   "execution_count": 6,
   "outputs": [
    {
     "data": {
      "text/plain": "<matplotlib.legend.Legend at 0x7fe7ee688510>"
     },
     "execution_count": 6,
     "metadata": {},
     "output_type": "execute_result"
    },
    {
     "data": {
      "text/plain": "<Figure size 640x480 with 1 Axes>",
      "image/png": "[encoded data removed]"
     },
     "metadata": {},
     "output_type": "display_data"
    }
   ],
   "source": [
    "# Plot train/test loss function as a function of time\n",
    "df_train = pd.DataFrame.from_dict(state[\"train_losses\"])\n",
    "df_test = pd.DataFrame.from_dict(state[\"test_losses\"])\n",
    "fig, ax = plt.subplots(ncols=1,nrows=1)\n",
    "ax.plot(range(df_test.shape[0]),df_test['Loss'].ewm(span=3, adjust=False).mean(),color=\"red\",label=\"Test loss\")\n",
    "ax.plot(range(df_train.shape[0]),df_train['Loss'].ewm(span=3, adjust=False).mean(),color=\"blue\",label=\"Train loss\")\n",
    "ax.set_xlabel(\"Epochs\")\n",
    "ax.set_ylabel(\"Loss\")\n",
    "# ax.set_title(fname.split('/')[-1])\n",
    "ax.legend(loc=\"best\")"
   ],
   "metadata": {
    "collapsed": false,
    "ExecuteTime": {
     "end_time": "2024-01-22T09:42:05.472703099Z",
     "start_time": "2024-01-22T09:42:05.307256073Z"
    }
   },
   "id": "b23205783fe2afb2"
  },
  {
   "cell_type": "markdown",
   "source": [
    "# Visualize Latent Space\n",
    "\n",
    "t-SNE (contrary to PCA) is a nonlinear technique that focuses on preserving the pairwise similarities \n",
    "between data points in a lower-dimensional space. \n",
    "t-SNE is concerned with preserving small pairwise distances whereas, \n",
    "PCA focuses on maintaining large pairwise distances to maximize variance.\n",
    "Thus, PCA preserves the variance in the data, whereas t-SNE preserves the relationships \n",
    "between data points in a lower-dimensional space, making it quite a good algorithm for visualizing complex high-dimensional data. "
   ],
   "metadata": {
    "collapsed": false
   },
   "id": "6d8fb4164e72f050"
  },
  {
   "cell_type": "code",
   "execution_count": 31,
   "outputs": [
    {
     "name": "stdout",
     "output_type": "stream",
     "text": [
      "\tsaving.../home/vsevolod/Work/GIT/GitHub/PBA_projects/ml_lightcurve/models/test0/figs/latent_n_ism_000.png\n",
      "\tsaving.../home/vsevolod/Work/GIT/GitHub/PBA_projects/ml_lightcurve/models/test0/figs/latent_n_ism_001.png\n",
      "\tsaving.../home/vsevolod/Work/GIT/GitHub/PBA_projects/ml_lightcurve/models/test0/figs/latent_n_ism_002.png\n",
      "\tsaving.../home/vsevolod/Work/GIT/GitHub/PBA_projects/ml_lightcurve/models/test0/figs/latent_n_ism_003.png\n",
      "\tsaving.../home/vsevolod/Work/GIT/GitHub/PBA_projects/ml_lightcurve/models/test0/figs/latent_n_ism_004.png\n",
      "\tsaving.../home/vsevolod/Work/GIT/GitHub/PBA_projects/ml_lightcurve/models/test0/figs/latent_n_ism_005.png\n",
      "\tsaving.../home/vsevolod/Work/GIT/GitHub/PBA_projects/ml_lightcurve/models/test0/figs/latent_n_ism_006.png\n",
      "\tsaving.../home/vsevolod/Work/GIT/GitHub/PBA_projects/ml_lightcurve/models/test0/figs/latent_n_ism_007.png\n",
      "\tsaving.../home/vsevolod/Work/GIT/GitHub/PBA_projects/ml_lightcurve/models/test0/figs/latent_n_ism_008.png\n",
      "\tsaving.../home/vsevolod/Work/GIT/GitHub/PBA_projects/ml_lightcurve/models/test0/figs/latent_n_ism_009.png\n",
      "\tsaving.../home/vsevolod/Work/GIT/GitHub/PBA_projects/ml_lightcurve/models/test0/figs/latent_n_ism_010.png\n",
      "\tsaving.../home/vsevolod/Work/GIT/GitHub/PBA_projects/ml_lightcurve/models/test0/figs/latent_n_ism_011.png\n",
      "\tsaving.../home/vsevolod/Work/GIT/GitHub/PBA_projects/ml_lightcurve/models/test0/figs/latent_n_ism_012.png\n",
      "\tsaving.../home/vsevolod/Work/GIT/GitHub/PBA_projects/ml_lightcurve/models/test0/figs/latent_n_ism_013.png\n",
      "\tsaving.../home/vsevolod/Work/GIT/GitHub/PBA_projects/ml_lightcurve/models/test0/figs/latent_n_ism_014.png\n",
      "\tsaving.../home/vsevolod/Work/GIT/GitHub/PBA_projects/ml_lightcurve/models/test0/figs/latent_n_ism_015.png\n",
      "\tsaving.../home/vsevolod/Work/GIT/GitHub/PBA_projects/ml_lightcurve/models/test0/figs/latent_n_ism_016.png\n",
      "\tsaving.../home/vsevolod/Work/GIT/GitHub/PBA_projects/ml_lightcurve/models/test0/figs/latent_n_ism_017.png\n",
      "\tsaving.../home/vsevolod/Work/GIT/GitHub/PBA_projects/ml_lightcurve/models/test0/figs/latent_n_ism_018.png\n",
      "\tsaving.../home/vsevolod/Work/GIT/GitHub/PBA_projects/ml_lightcurve/models/test0/figs/latent_n_ism_019.png\n",
      "\tsaving.../home/vsevolod/Work/GIT/GitHub/PBA_projects/ml_lightcurve/models/test0/figs/latent_n_ism_020.png\n",
      "\tsaving.../home/vsevolod/Work/GIT/GitHub/PBA_projects/ml_lightcurve/models/test0/figs/latent_n_ism_021.png\n",
      "\tsaving.../home/vsevolod/Work/GIT/GitHub/PBA_projects/ml_lightcurve/models/test0/figs/latent_n_ism_022.png\n",
      "\tsaving.../home/vsevolod/Work/GIT/GitHub/PBA_projects/ml_lightcurve/models/test0/figs/latent_n_ism_023.png\n",
      "\tsaving.../home/vsevolod/Work/GIT/GitHub/PBA_projects/ml_lightcurve/models/test0/figs/latent_n_ism_024.png\n",
      "\tsaving.../home/vsevolod/Work/GIT/GitHub/PBA_projects/ml_lightcurve/models/test0/figs/latent_n_ism_025.png\n",
      "\tsaving.../home/vsevolod/Work/GIT/GitHub/PBA_projects/ml_lightcurve/models/test0/figs/latent_n_ism_026.png\n",
      "\tsaving.../home/vsevolod/Work/GIT/GitHub/PBA_projects/ml_lightcurve/models/test0/figs/latent_n_ism_027.png\n",
      "\tsaving.../home/vsevolod/Work/GIT/GitHub/PBA_projects/ml_lightcurve/models/test0/figs/latent_n_ism_028.png\n",
      "\tsaving.../home/vsevolod/Work/GIT/GitHub/PBA_projects/ml_lightcurve/models/test0/figs/latent_n_ism_029.png\n",
      "\tsaving.../home/vsevolod/Work/GIT/GitHub/PBA_projects/ml_lightcurve/models/test0/figs/latent_n_ism_030.png\n",
      "\tsaving.../home/vsevolod/Work/GIT/GitHub/PBA_projects/ml_lightcurve/models/test0/figs/latent_n_ism_031.png\n",
      "\tsaving.../home/vsevolod/Work/GIT/GitHub/PBA_projects/ml_lightcurve/models/test0/figs/latent_n_ism_032.png\n",
      "\tsaving.../home/vsevolod/Work/GIT/GitHub/PBA_projects/ml_lightcurve/models/test0/figs/latent_n_ism_033.png\n",
      "\tsaving.../home/vsevolod/Work/GIT/GitHub/PBA_projects/ml_lightcurve/models/test0/figs/latent_n_ism_034.png\n",
      "\tsaving.../home/vsevolod/Work/GIT/GitHub/PBA_projects/ml_lightcurve/models/test0/figs/latent_n_ism_035.png\n",
      "\tsaving.../home/vsevolod/Work/GIT/GitHub/PBA_projects/ml_lightcurve/models/test0/figs/latent_n_ism_036.png\n",
      "\tsaving.../home/vsevolod/Work/GIT/GitHub/PBA_projects/ml_lightcurve/models/test0/figs/latent_n_ism_037.png\n",
      "\tsaving.../home/vsevolod/Work/GIT/GitHub/PBA_projects/ml_lightcurve/models/test0/figs/latent_n_ism_038.png\n",
      "\tsaving.../home/vsevolod/Work/GIT/GitHub/PBA_projects/ml_lightcurve/models/test0/figs/latent_n_ism_039.png\n",
      "\tsaving.../home/vsevolod/Work/GIT/GitHub/PBA_projects/ml_lightcurve/models/test0/figs/latent_n_ism_040.png\n",
      "\tsaving.../home/vsevolod/Work/GIT/GitHub/PBA_projects/ml_lightcurve/models/test0/figs/latent_n_ism_041.png\n",
      "\tsaving.../home/vsevolod/Work/GIT/GitHub/PBA_projects/ml_lightcurve/models/test0/figs/latent_n_ism_042.png\n",
      "\tsaving.../home/vsevolod/Work/GIT/GitHub/PBA_projects/ml_lightcurve/models/test0/figs/latent_n_ism_043.png\n",
      "\tsaving.../home/vsevolod/Work/GIT/GitHub/PBA_projects/ml_lightcurve/models/test0/figs/latent_n_ism_044.png\n",
      "\tsaving.../home/vsevolod/Work/GIT/GitHub/PBA_projects/ml_lightcurve/models/test0/figs/latent_n_ism_045.png\n",
      "\tsaving.../home/vsevolod/Work/GIT/GitHub/PBA_projects/ml_lightcurve/models/test0/figs/latent_n_ism_046.png\n",
      "\tsaving.../home/vsevolod/Work/GIT/GitHub/PBA_projects/ml_lightcurve/models/test0/figs/latent_n_ism_047.png\n",
      "\tsaving.../home/vsevolod/Work/GIT/GitHub/PBA_projects/ml_lightcurve/models/test0/figs/latent_n_ism_048.png\n",
      "\tsaving.../home/vsevolod/Work/GIT/GitHub/PBA_projects/ml_lightcurve/models/test0/figs/latent_n_ism_049.png\n",
      "Latent space for all epochs plotted\n"
     ]
    }
   ],
   "source": [
    "# Plot 3 columns for Xhat, Mu, LogVar for all features (2D using t-SNE)\n",
    "def plot_latent_space_for_epoch(xhat_,mu_,logvar_,phys_,figname,title=None,show=False):\n",
    "    # unpack\n",
    "    x_xhat, y_yhat = xhat_[:, 0], xhat_[:, 1]\n",
    "    x_mu, y_mu = mu_[:, 0], mu_[:, 1]\n",
    "    x_logvar, y_logvar = logvar_[:, 0], logvar_[:, 1]\n",
    "\n",
    "    # plot\n",
    "    cmap_name = \"coolwarm_r\" # 'coolwarm_r'\n",
    "    fig, axes = plt.subplots(ncols=3,nrows=len(features_names),figsize=(8,12))\n",
    "    \n",
    "    if not title is None:\n",
    "        fig.suptitle(title, fontsize=15)\n",
    "\n",
    "    axes[0, 0].set_title(r\"$\\hat{X}$\",fontsize=12)\n",
    "    axes[0, 1].set_title(r\"$\\mu$\",fontsize=12)\n",
    "    axes[0, 2].set_title(r\"$\\log(\\sigma^2)$\",fontsize=12)\n",
    "    for i, f in enumerate(features_names):\n",
    "        # print(np.min(phys_[:,i]),', ', np.max(phys_[:,i]))\n",
    "        if (np.min(phys_[:,i])<=0\n",
    "                or (np.max(phys_[:, i])/np.min(phys_[:, i])<10)):\n",
    "            norm = Normalize(vmin=np.min(phys_[:, i]),\n",
    "                             vmax=np.max(phys_[:, i]))\n",
    "        else:\n",
    "            norm = LogNorm(vmin=np.min(phys_[:,i]),\n",
    "                           vmax=np.max(phys_[:,i]))\n",
    "\n",
    "        cmap = plt.get_cmap(cmap_name)\n",
    "\n",
    "        colors = cmap(norm(phys_[:,i]))\n",
    "        # labels_collated[:,i]\n",
    "\n",
    "        im = axes[i,0].scatter(x_xhat, y_yhat, marker='.', s=20, c=colors, alpha=.6)\n",
    "        im = axes[i,1].scatter(x_mu, y_mu, marker='.', s=20, c=colors, alpha=.6)\n",
    "        im = axes[i,2].scatter(x_logvar, y_logvar, marker='.', s=20, c=colors, alpha=.6)\n",
    "\n",
    "        divider = make_axes_locatable(axes[i,2])\n",
    "        cax = divider.append_axes('right', size='5%', pad=0.05)\n",
    "        cbar = fig.colorbar(ScalarMappable(norm=norm, cmap=cmap),\n",
    "                            cax=cax, orientation='vertical', label=features_names[i])\n",
    "        cbar.ax.tick_params(labelsize=10)\n",
    "        \n",
    "        for ax in axes[i,:]:\n",
    "            # Hide X and Y axes label marks\n",
    "            ax.xaxis.set_tick_params(labelbottom=False)\n",
    "            ax.yaxis.set_tick_params(labelleft=False)\n",
    "\n",
    "            # Hide X and Y axes tick marks\n",
    "            ax.set_xticks([])\n",
    "            ax.set_yticks([])\n",
    "\n",
    "            ax.patch.set_visible(False)\n",
    "            ax.axis('off')\n",
    "\n",
    "    # plt.scatter(x, y, marker='.', s=20, c=labels_collated[:,5], cmap='coolwarm_r', alpha=.7)\n",
    "    # plt.colorbar(label=features_names[5])\n",
    "\n",
    "    # plt.xlabel('embedding 1')\n",
    "    # plt.ylabel('embedding 2')\n",
    "    # plt.legend(loc='best', fontsize='x-large')\n",
    "    plt.tight_layout()\n",
    "    plt.savefig(figname,dpi=256)\n",
    "    print(f\"\\tsaving...{figname}\")\n",
    "    if show:\n",
    "        plt.show()\n",
    "    else:\n",
    "        plt.close(fig)\n",
    "\n",
    "    # \n",
    "    # \n",
    "    # \n",
    "    # mode='imgs'\n",
    "    # fig, ax = plt.subplots(figsize=(10, 7))\n",
    "    # ax.set_title(f't-SNE for {epoch}')\n",
    "    # if mode == 'imgs':\n",
    "    #     for image, (x, y) in zip(data_collated.cpu(), xhat_tsne):\n",
    "    #         im = OffsetImage(image.reshape(28, 28), zoom=1, cmap='gray')\n",
    "    #         ab = AnnotationBbox(im, (x, y), xycoords='data', frameon=False)\n",
    "    #         ax.add_artist(ab)\n",
    "    #     ax.update_datalim(xhat_tsne)\n",
    "    #     ax.autoscale()\n",
    "    # elif mode == 'dots':\n",
    "    #     classes = labels_collated\n",
    "    #     plt.scatter(xhat_tsne[:, 0], xhat_tsne[:, 1])\n",
    "    #     # plt.colorbar()\n",
    "    #     # for i in range(10):\n",
    "    #     #     class_center = np.mean(coords[classes == i], axis=0)\n",
    "    #     #     text = TextArea('{}'.format(i))\n",
    "    #     #     ab = AnnotationBbox(text, class_center, xycoords='data', frameon=True)\n",
    "    #     #     ax.add_artist(ab)\n",
    "    # # plt.show()\n",
    "    # plt.savefig(figdir+f\"latent_{epoch}.png\")\n",
    "def plot_latent_space_for_epoch_xhat_feat(feature,feature_label,xhat_,phys_,figname,title=None,show=False):\n",
    "    # unpack\n",
    "    x_xhat, y_yhat = xhat_[:, 0], xhat_[:, 1]\n",
    "    # x_mu, y_mu = mu_[:, 0], mu_[:, 1]\n",
    "    # x_logvar, y_logvar = logvar_[:, 0], logvar_[:, 1]\n",
    "\n",
    "    # plot\n",
    "    cmap_name = \"coolwarm_r\" # 'coolwarm_r'\n",
    "    fig, ax = plt.subplots(ncols=1,nrows=1,figsize=(6,4))\n",
    "\n",
    "    if not title is None:\n",
    "        fig.suptitle(title, fontsize=15)\n",
    "\n",
    "    # axes[0, 0].set_title(r\"$\\hat{X}$\",fontsize=12)\n",
    "    # axes[0, 1].set_title(r\"$\\mu$\",fontsize=12)\n",
    "    # axes[0, 2].set_title(r\"$\\log(\\sigma^2)$\",fontsize=12)\n",
    "    idx = features_names.index(feature)\n",
    "\n",
    "    if (np.min(phys_[:,idx])<=0\n",
    "            or (np.max(phys_[:, idx])/np.min(phys_[:, idx])<10)):\n",
    "        norm = Normalize(vmin=np.min(phys_[:, idx]),\n",
    "                         vmax=np.max(phys_[:, idx]))\n",
    "    else:\n",
    "        norm = LogNorm(vmin=np.min(phys_[:,idx]),\n",
    "                       vmax=np.max(phys_[:,idx]))\n",
    "    cmap = plt.get_cmap(cmap_name)\n",
    "    colors = cmap(norm(phys_[:,idx]))\n",
    "    im = ax.scatter(x_xhat, y_yhat, marker='.', s=20, c=colors, alpha=.6)\n",
    "    divider = make_axes_locatable(ax)\n",
    "    cax = divider.append_axes('right', size='5%', pad=0.05)\n",
    "    cbar = fig.colorbar(ScalarMappable(norm=norm, cmap=cmap),\n",
    "                        cax=cax, orientation='vertical')\n",
    "    cbar.set_label(label=feature_label, size=12, weight='bold')\n",
    "    cbar.ax.tick_params(labelsize=12)\n",
    "\n",
    "    ax.xaxis.set_tick_params(labelbottom=False)\n",
    "    ax.yaxis.set_tick_params(labelleft=False)\n",
    "\n",
    "    # Hide X and Y axes tick marks\n",
    "    ax.set_xticks([])\n",
    "    ax.set_yticks([])\n",
    "\n",
    "    ax.patch.set_visible(False)\n",
    "    ax.axis('off')\n",
    "\n",
    "    plt.tight_layout()\n",
    "    plt.savefig(figname,dpi=256)\n",
    "    print(f\"\\tsaving...{figname}\")\n",
    "    if show:\n",
    "        plt.show()\n",
    "    else:\n",
    "        plt.close(fig)\n",
    "    \n",
    "    \n",
    "    # \n",
    "    # \n",
    "    # \n",
    "    # mode='imgs'\n",
    "    # fig, ax = plt.subplots(figsize=(10, 7))\n",
    "    # ax.set_title(f't-SNE for {epoch}')\n",
    "    # if mode == 'imgs':\n",
    "    #     for image, (x, y) in zip(data_collated.cpu(), xhat_tsne):\n",
    "    #         im = OffsetImage(image.reshape(28, 28), zoom=1, cmap='gray')\n",
    "    #         ab = AnnotationBbox(im, (x, y), xycoords='data', frameon=False)\n",
    "    #         ax.add_artist(ab)\n",
    "    #     ax.update_datalim(xhat_tsne)\n",
    "    #     ax.autoscale()\n",
    "    # elif mode == 'dots':\n",
    "    #     classes = labels_collated\n",
    "    #     plt.scatter(xhat_tsne[:, 0], xhat_tsne[:, 1])\n",
    "    #     # plt.colorbar()\n",
    "    #     # for i in range(10):\n",
    "    #     #     class_center = np.mean(coords[classes == i], axis=0)\n",
    "    #     #     text = TextArea('{}'.format(i))\n",
    "    #     #     ab = AnnotationBbox(text, class_center, xycoords='data', frameon=True)\n",
    "    #     #     ax.add_artist(ab)\n",
    "    # # plt.show()\n",
    "    # plt.savefig(figdir+f\"latent_{epoch}.png\")\n",
    "\n",
    "# load latent sapce\n",
    "dimensity_reduction_method = \"t-SNE\"\n",
    "\n",
    "# init file where to store reduced latent sapce\n",
    "fname_latent = model_dir+f\"latent_{dimensity_reduction_method}.h5\"\n",
    "if not os.path.isfile(fname_latent):\n",
    "    print(f\"File not found: {fname_latent}\")\n",
    "    raise FileNotFoundError(f\"File not found: {fname_latent}\")\n",
    "\n",
    "# df_train = pd.read_csv(fname.replace(\".pt\",\"_train_losses.csv\"))\n",
    "# df_test = pd.read_csv(fname.replace(\".pt\",\"_test_losses.csv\"))\n",
    "\n",
    "with h5py.File(fname_latent,\"r\") as f:\n",
    "    epochs = int(f.attrs[\"epochs\"])\n",
    "    features_names = list([str(val.decode(\"utf-8\")) for val in f[\"features_names\"]])\n",
    "    for e in range(epochs): # [epochs-1]:#range(epochs):\n",
    "        group = f[f\"epoch={e}\"]\n",
    "        # plot_latent_space_for_epoch(\n",
    "        #     xhat_ =np.array(group[\"xhat\"]),\n",
    "        #     mu_ =np.array(group[\"mu\"]),\n",
    "        #     logvar_ =np.array(group[\"logvar\"]),\n",
    "        #     phys_ =np.array(group[\"phys_labels\"]),\n",
    "        #     figname =fig_dir+\"latent_\"+str(e).zfill(3)+\".png\",\n",
    "        #     title=f\"E={e}/{epochs-1}| tLoss={df_test['Loss'][e]:.2f} | {dimensity_reduction_method}\",\n",
    "        #     show=False\n",
    "        # )\n",
    "        plot_latent_space_for_epoch_xhat_feat(\n",
    "            feature=\"n_ism\",\n",
    "            feature_label=r\"$n_{\\rm ISM}$ [cm$^{-3}$]\",\n",
    "            xhat_ =np.array(group[\"xhat\"]),\n",
    "            phys_ =np.array(group[\"phys_labels\"]),\n",
    "            figname =fig_dir+\"latent_n_ism_\"+str(e).zfill(3)+\".png\",\n",
    "            title=None,#f\"Epoch={e+1}/{epochs};  tLoss={df_train['Loss'][e]:.2f};   {dimensity_reduction_method}\",\n",
    "            show=False\n",
    "        )\n",
    "        # break\n",
    "        \n",
    "print(\"Latent space for all epochs plotted\")"
   ],
   "metadata": {
    "collapsed": false,
    "ExecuteTime": {
     "end_time": "2024-01-22T10:13:39.059195839Z",
     "start_time": "2024-01-22T10:13:19.063895622Z"
    }
   },
   "id": "c25aa372f4ccfeb0"
  },
  {
   "cell_type": "code",
   "execution_count": 29,
   "outputs": [
    {
     "ename": "FileNotFoundError",
     "evalue": "[Errno 2] No such file or directory: 'ffmpeg -framerate 1 -pattern_type glob -i \"*.png\" -c:v libx264 -vf minterpolate=fps=60:mi_mode=mci:mc_mode=aobmc:me_mode=bidir:vsbmc=1\" -pix_fmt yuv420p out3.mp4'",
     "output_type": "error",
     "traceback": [
      "\u001B[0;31m---------------------------------------------------------------------------\u001B[0m",
      "\u001B[0;31mFileNotFoundError\u001B[0m                         Traceback (most recent call last)",
      "Cell \u001B[0;32mIn[29], line 4\u001B[0m\n\u001B[1;32m      1\u001B[0m \u001B[38;5;66;03m# combine images into a movie\u001B[39;00m\n\u001B[1;32m      2\u001B[0m \u001B[38;5;66;03m# subprocess.run([f\"ffmpeg -framerate 4 -i {fig_dir}*.png -c:v libx264 -profile:v high -crf 30 -pix_fmt yuv420p -vf 'minterpolate=fps=60:mi_mode=mci:mc_mode=aobmc:me_mode=bidir:vsbmc=1' {fig_dir}out3.mp4\"])\u001B[39;00m\n\u001B[1;32m      3\u001B[0m os\u001B[38;5;241m.\u001B[39mchdir(fig_dir)\n\u001B[0;32m----> 4\u001B[0m subprocess\u001B[38;5;241m.\u001B[39mrun([\u001B[38;5;124mf\u001B[39m\u001B[38;5;124m'\u001B[39m\u001B[38;5;124mffmpeg -framerate 1 -pattern_type glob -i \u001B[39m\u001B[38;5;124m\"\u001B[39m\u001B[38;5;124m*.png\u001B[39m\u001B[38;5;124m\"\u001B[39m\u001B[38;5;124m -c:v libx264 -vf minterpolate=fps=60:mi_mode=mci:mc_mode=aobmc:me_mode=bidir:vsbmc=1\u001B[39m\u001B[38;5;124m\"\u001B[39m\u001B[38;5;124m -pix_fmt yuv420p out3.mp4\u001B[39m\u001B[38;5;124m'\u001B[39m])\n",
      "File \u001B[0;32m~/anaconda3/lib/python3.11/subprocess.py:548\u001B[0m, in \u001B[0;36mrun\u001B[0;34m(input, capture_output, timeout, check, *popenargs, **kwargs)\u001B[0m\n\u001B[1;32m    545\u001B[0m     kwargs[\u001B[38;5;124m'\u001B[39m\u001B[38;5;124mstdout\u001B[39m\u001B[38;5;124m'\u001B[39m] \u001B[38;5;241m=\u001B[39m PIPE\n\u001B[1;32m    546\u001B[0m     kwargs[\u001B[38;5;124m'\u001B[39m\u001B[38;5;124mstderr\u001B[39m\u001B[38;5;124m'\u001B[39m] \u001B[38;5;241m=\u001B[39m PIPE\n\u001B[0;32m--> 548\u001B[0m \u001B[38;5;28;01mwith\u001B[39;00m Popen(\u001B[38;5;241m*\u001B[39mpopenargs, \u001B[38;5;241m*\u001B[39m\u001B[38;5;241m*\u001B[39mkwargs) \u001B[38;5;28;01mas\u001B[39;00m process:\n\u001B[1;32m    549\u001B[0m     \u001B[38;5;28;01mtry\u001B[39;00m:\n\u001B[1;32m    550\u001B[0m         stdout, stderr \u001B[38;5;241m=\u001B[39m process\u001B[38;5;241m.\u001B[39mcommunicate(\u001B[38;5;28minput\u001B[39m, timeout\u001B[38;5;241m=\u001B[39mtimeout)\n",
      "File \u001B[0;32m~/anaconda3/lib/python3.11/subprocess.py:1026\u001B[0m, in \u001B[0;36mPopen.__init__\u001B[0;34m(self, args, bufsize, executable, stdin, stdout, stderr, preexec_fn, close_fds, shell, cwd, env, universal_newlines, startupinfo, creationflags, restore_signals, start_new_session, pass_fds, user, group, extra_groups, encoding, errors, text, umask, pipesize, process_group)\u001B[0m\n\u001B[1;32m   1022\u001B[0m         \u001B[38;5;28;01mif\u001B[39;00m \u001B[38;5;28mself\u001B[39m\u001B[38;5;241m.\u001B[39mtext_mode:\n\u001B[1;32m   1023\u001B[0m             \u001B[38;5;28mself\u001B[39m\u001B[38;5;241m.\u001B[39mstderr \u001B[38;5;241m=\u001B[39m io\u001B[38;5;241m.\u001B[39mTextIOWrapper(\u001B[38;5;28mself\u001B[39m\u001B[38;5;241m.\u001B[39mstderr,\n\u001B[1;32m   1024\u001B[0m                     encoding\u001B[38;5;241m=\u001B[39mencoding, errors\u001B[38;5;241m=\u001B[39merrors)\n\u001B[0;32m-> 1026\u001B[0m     \u001B[38;5;28mself\u001B[39m\u001B[38;5;241m.\u001B[39m_execute_child(args, executable, preexec_fn, close_fds,\n\u001B[1;32m   1027\u001B[0m                         pass_fds, cwd, env,\n\u001B[1;32m   1028\u001B[0m                         startupinfo, creationflags, shell,\n\u001B[1;32m   1029\u001B[0m                         p2cread, p2cwrite,\n\u001B[1;32m   1030\u001B[0m                         c2pread, c2pwrite,\n\u001B[1;32m   1031\u001B[0m                         errread, errwrite,\n\u001B[1;32m   1032\u001B[0m                         restore_signals,\n\u001B[1;32m   1033\u001B[0m                         gid, gids, uid, umask,\n\u001B[1;32m   1034\u001B[0m                         start_new_session, process_group)\n\u001B[1;32m   1035\u001B[0m \u001B[38;5;28;01mexcept\u001B[39;00m:\n\u001B[1;32m   1036\u001B[0m     \u001B[38;5;66;03m# Cleanup if the child failed starting.\u001B[39;00m\n\u001B[1;32m   1037\u001B[0m     \u001B[38;5;28;01mfor\u001B[39;00m f \u001B[38;5;129;01min\u001B[39;00m \u001B[38;5;28mfilter\u001B[39m(\u001B[38;5;28;01mNone\u001B[39;00m, (\u001B[38;5;28mself\u001B[39m\u001B[38;5;241m.\u001B[39mstdin, \u001B[38;5;28mself\u001B[39m\u001B[38;5;241m.\u001B[39mstdout, \u001B[38;5;28mself\u001B[39m\u001B[38;5;241m.\u001B[39mstderr)):\n",
      "File \u001B[0;32m~/anaconda3/lib/python3.11/subprocess.py:1950\u001B[0m, in \u001B[0;36mPopen._execute_child\u001B[0;34m(self, args, executable, preexec_fn, close_fds, pass_fds, cwd, env, startupinfo, creationflags, shell, p2cread, p2cwrite, c2pread, c2pwrite, errread, errwrite, restore_signals, gid, gids, uid, umask, start_new_session, process_group)\u001B[0m\n\u001B[1;32m   1948\u001B[0m     \u001B[38;5;28;01mif\u001B[39;00m errno_num \u001B[38;5;241m!=\u001B[39m \u001B[38;5;241m0\u001B[39m:\n\u001B[1;32m   1949\u001B[0m         err_msg \u001B[38;5;241m=\u001B[39m os\u001B[38;5;241m.\u001B[39mstrerror(errno_num)\n\u001B[0;32m-> 1950\u001B[0m     \u001B[38;5;28;01mraise\u001B[39;00m child_exception_type(errno_num, err_msg, err_filename)\n\u001B[1;32m   1951\u001B[0m \u001B[38;5;28;01mraise\u001B[39;00m child_exception_type(err_msg)\n",
      "\u001B[0;31mFileNotFoundError\u001B[0m: [Errno 2] No such file or directory: 'ffmpeg -framerate 1 -pattern_type glob -i \"*.png\" -c:v libx264 -vf minterpolate=fps=60:mi_mode=mci:mc_mode=aobmc:me_mode=bidir:vsbmc=1\" -pix_fmt yuv420p out3.mp4'"
     ]
    }
   ],
   "source": [
    "# combine images into a movie\n",
    "# subprocess.run([f\"ffmpeg -framerate 4 -i {fig_dir}*.png -c:v libx264 -profile:v high -crf 30 -pix_fmt yuv420p -vf 'minterpolate=fps=60:mi_mode=mci:mc_mode=aobmc:me_mode=bidir:vsbmc=1' {fig_dir}out3.mp4\"])\n",
    "os.chdir(fig_dir)\n",
    "subprocess.run([f'ffmpeg -framerate 1 -pattern_type glob -i \"*.png\" -c:v libx264 -vf minterpolate=fps=60:mi_mode=mci:mc_mode=aobmc:me_mode=bidir:vsbmc=1\" -pix_fmt yuv420p out3.mp4'])"
   ],
   "metadata": {
    "collapsed": false,
    "ExecuteTime": {
     "end_time": "2024-01-22T09:59:36.933912594Z",
     "start_time": "2024-01-22T09:59:36.892947654Z"
    }
   },
   "id": "872ef03d22dd0f3e"
  },
  {
   "cell_type": "code",
   "outputs": [],
   "source": [],
   "metadata": {
    "collapsed": false
   },
   "id": "7e991110c0590d30"
  }
 ],
 "metadata": {
  "kernelspec": {
   "display_name": "Python 3",
   "language": "python",
   "name": "python3"
  },
  "language_info": {
   "codemirror_mode": {
    "name": "ipython",
    "version": 2
   },
   "file_extension": ".py",
   "mimetype": "text/x-python",
   "name": "python",
   "nbconvert_exporter": "python",
   "pygments_lexer": "ipython2",
   "version": "2.7.6"
  }
 },
 "nbformat": 4,
 "nbformat_minor": 5
}
